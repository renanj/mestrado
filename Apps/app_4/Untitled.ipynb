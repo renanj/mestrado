{
 "cells": [
  {
   "cell_type": "code",
   "execution_count": 1,
   "metadata": {},
   "outputs": [],
   "source": [
    "import pandas as pd\n",
    "import numpy as np"
   ]
  },
  {
   "cell_type": "code",
   "execution_count": 183,
   "metadata": {},
   "outputs": [],
   "source": [
    "_df = pd.read_csv('data/data.csv', encoding='ISO-8859-1').iloc[:6,:]"
   ]
  },
  {
   "cell_type": "code",
   "execution_count": 185,
   "metadata": {},
   "outputs": [
    {
     "data": {
      "text/html": [
       "<div>\n",
       "<style scoped>\n",
       "    .dataframe tbody tr th:only-of-type {\n",
       "        vertical-align: middle;\n",
       "    }\n",
       "\n",
       "    .dataframe tbody tr th {\n",
       "        vertical-align: top;\n",
       "    }\n",
       "\n",
       "    .dataframe thead th {\n",
       "        text-align: right;\n",
       "    }\n",
       "</style>\n",
       "<table border=\"1\" class=\"dataframe\">\n",
       "  <thead>\n",
       "    <tr style=\"text-align: right;\">\n",
       "      <th></th>\n",
       "      <th>names</th>\n",
       "      <th>x</th>\n",
       "      <th>y</th>\n",
       "      <th>manual_label</th>\n",
       "      <th>correct_label</th>\n",
       "      <th>x3</th>\n",
       "      <th>y3</th>\n",
       "      <th>x4</th>\n",
       "      <th>y4</th>\n",
       "    </tr>\n",
       "  </thead>\n",
       "  <tbody>\n",
       "    <tr>\n",
       "      <th>0</th>\n",
       "      <td>Digit 2</td>\n",
       "      <td>0.933600</td>\n",
       "      <td>34.672680</td>\n",
       "      <td>-</td>\n",
       "      <td>Digit 2</td>\n",
       "      <td>17.1019</td>\n",
       "      <td>3.6875</td>\n",
       "      <td>-11.2479</td>\n",
       "      <td>8.4360</td>\n",
       "    </tr>\n",
       "    <tr>\n",
       "      <th>1</th>\n",
       "      <td>Digit 7</td>\n",
       "      <td>25.328316</td>\n",
       "      <td>-17.343037</td>\n",
       "      <td>-</td>\n",
       "      <td>Digit 7</td>\n",
       "      <td>16.4618</td>\n",
       "      <td>-4.9831</td>\n",
       "      <td>2.3704</td>\n",
       "      <td>1.3991</td>\n",
       "    </tr>\n",
       "    <tr>\n",
       "      <th>2</th>\n",
       "      <td>Digit 1</td>\n",
       "      <td>29.725433</td>\n",
       "      <td>16.650507</td>\n",
       "      <td>-</td>\n",
       "      <td>Digit 1</td>\n",
       "      <td>0.1516</td>\n",
       "      <td>-18.3263</td>\n",
       "      <td>-7.6700</td>\n",
       "      <td>-19.1876</td>\n",
       "    </tr>\n",
       "    <tr>\n",
       "      <th>3</th>\n",
       "      <td>Digit 3</td>\n",
       "      <td>-17.481684</td>\n",
       "      <td>20.676216</td>\n",
       "      <td>-</td>\n",
       "      <td>Digit 3</td>\n",
       "      <td>17.3014</td>\n",
       "      <td>-9.3113</td>\n",
       "      <td>-14.8074</td>\n",
       "      <td>19.9487</td>\n",
       "    </tr>\n",
       "    <tr>\n",
       "      <th>4</th>\n",
       "      <td>Digit 5</td>\n",
       "      <td>-10.580127</td>\n",
       "      <td>0.732536</td>\n",
       "      <td>-</td>\n",
       "      <td>Digit 5</td>\n",
       "      <td>5.4364</td>\n",
       "      <td>8.7862</td>\n",
       "      <td>18.3756</td>\n",
       "      <td>6.6732</td>\n",
       "    </tr>\n",
       "  </tbody>\n",
       "</table>\n",
       "</div>"
      ],
      "text/plain": [
       "     names          x          y manual_label correct_label       x3       y3  \\\n",
       "0  Digit 2   0.933600  34.672680            -       Digit 2  17.1019   3.6875   \n",
       "1  Digit 7  25.328316 -17.343037            -       Digit 7  16.4618  -4.9831   \n",
       "2  Digit 1  29.725433  16.650507            -       Digit 1   0.1516 -18.3263   \n",
       "3  Digit 3 -17.481684  20.676216            -       Digit 3  17.3014  -9.3113   \n",
       "4  Digit 5 -10.580127   0.732536            -       Digit 5   5.4364   8.7862   \n",
       "\n",
       "        x4       y4  \n",
       "0 -11.2479   8.4360  \n",
       "1   2.3704   1.3991  \n",
       "2  -7.6700 -19.1876  \n",
       "3 -14.8074  19.9487  \n",
       "4  18.3756   6.6732  "
      ]
     },
     "execution_count": 185,
     "metadata": {},
     "output_type": "execute_result"
    }
   ],
   "source": [
    "_df.head()"
   ]
  },
  {
   "cell_type": "code",
   "execution_count": 199,
   "metadata": {},
   "outputs": [],
   "source": [
    "figure = [{'customdata': [0], 'marker': {'size': 20, 'symbol': 'circle'}, 'mode': 'markers', 'name': '2', 'selectedpoints': [], 'text': [2], 'textposition': 'top center', 'x': [17.1019], 'y': [3.6875], 'type': 'scatter'}, {'customdata': [0, 1, 2, 3, 4], 'marker': {'size': 20, 'symbol': 'circle'}, 'mode': 'markers', 'name': '-', 'selectedpoints': [0, 2], 'text': ['-', '-', '-', '-', '-'], 'textposition': 'top center', 'x': [16.4618, 0.1516, 17.3014, 5.4364, -18.7036], 'y': [-4.9831, -18.3263, -9.3113, 8.7862, 6.8454], 'type': 'scatter'}]"
   ]
  },
  {
   "cell_type": "code",
   "execution_count": 200,
   "metadata": {},
   "outputs": [],
   "source": [
    "_list_figure = [None, None, figure]"
   ]
  },
  {
   "cell_type": "code",
   "execution_count": 201,
   "metadata": {},
   "outputs": [
    {
     "data": {
      "text/plain": [
       "[{'customdata': [0],\n",
       "  'marker': {'size': 20, 'symbol': 'circle'},\n",
       "  'mode': 'markers',\n",
       "  'name': '2',\n",
       "  'selectedpoints': [],\n",
       "  'text': [2],\n",
       "  'textposition': 'top center',\n",
       "  'x': [17.1019],\n",
       "  'y': [3.6875],\n",
       "  'type': 'scatter'},\n",
       " {'customdata': [0, 1, 2, 3, 4],\n",
       "  'marker': {'size': 20, 'symbol': 'circle'},\n",
       "  'mode': 'markers',\n",
       "  'name': '-',\n",
       "  'selectedpoints': [0, 2],\n",
       "  'text': ['-', '-', '-', '-', '-'],\n",
       "  'textposition': 'top center',\n",
       "  'x': [16.4618, 0.1516, 17.3014, 5.4364, -18.7036],\n",
       "  'y': [-4.9831, -18.3263, -9.3113, 8.7862, 6.8454],\n",
       "  'type': 'scatter'}]"
      ]
     },
     "execution_count": 201,
     "metadata": {},
     "output_type": "execute_result"
    }
   ],
   "source": [
    "_list_figure[2]"
   ]
  },
  {
   "cell_type": "code",
   "execution_count": 202,
   "metadata": {},
   "outputs": [
    {
     "ename": "ValueError",
     "evalue": "cannot reshape array of size 2 into shape (1,0)",
     "output_type": "error",
     "traceback": [
      "\u001b[0;31m---------------------------------------------------------------------------\u001b[0m",
      "\u001b[0;31mValueError\u001b[0m                                Traceback (most recent call last)",
      "\u001b[0;32m<ipython-input-202-7639f68e55db>\u001b[0m in \u001b[0;36m<module>\u001b[0;34m\u001b[0m\n\u001b[1;32m     28\u001b[0m \u001b[0;34m\u001b[0m\u001b[0m\n\u001b[1;32m     29\u001b[0m \u001b[0;34m\u001b[0m\u001b[0m\n\u001b[0;32m---> 30\u001b[0;31m \u001b[0m_x_selection\u001b[0m \u001b[0;34m=\u001b[0m \u001b[0mlist\u001b[0m\u001b[0;34m(\u001b[0m\u001b[0mnp\u001b[0m\u001b[0;34m.\u001b[0m\u001b[0masarray\u001b[0m\u001b[0;34m(\u001b[0m\u001b[0m_x_selection\u001b[0m\u001b[0;34m)\u001b[0m\u001b[0;34m.\u001b[0m\u001b[0mreshape\u001b[0m\u001b[0;34m(\u001b[0m\u001b[0;36m1\u001b[0m\u001b[0;34m,\u001b[0m\u001b[0mlen\u001b[0m\u001b[0;34m(\u001b[0m\u001b[0m_x_selection\u001b[0m\u001b[0;34m[\u001b[0m\u001b[0;36m0\u001b[0m\u001b[0;34m]\u001b[0m\u001b[0;34m)\u001b[0m\u001b[0;34m)\u001b[0m\u001b[0;34m[\u001b[0m\u001b[0;36m0\u001b[0m\u001b[0;34m]\u001b[0m\u001b[0;34m)\u001b[0m\u001b[0;34m\u001b[0m\u001b[0;34m\u001b[0m\u001b[0m\n\u001b[0m\u001b[1;32m     31\u001b[0m \u001b[0m_y_selection\u001b[0m \u001b[0;34m=\u001b[0m \u001b[0mlist\u001b[0m\u001b[0;34m(\u001b[0m\u001b[0mnp\u001b[0m\u001b[0;34m.\u001b[0m\u001b[0masarray\u001b[0m\u001b[0;34m(\u001b[0m\u001b[0m_y_selection\u001b[0m\u001b[0;34m)\u001b[0m\u001b[0;34m.\u001b[0m\u001b[0mreshape\u001b[0m\u001b[0;34m(\u001b[0m\u001b[0;36m1\u001b[0m\u001b[0;34m,\u001b[0m\u001b[0mlen\u001b[0m\u001b[0;34m(\u001b[0m\u001b[0m_y_selection\u001b[0m\u001b[0;34m[\u001b[0m\u001b[0;36m0\u001b[0m\u001b[0;34m]\u001b[0m\u001b[0;34m)\u001b[0m\u001b[0;34m)\u001b[0m\u001b[0;34m[\u001b[0m\u001b[0;36m0\u001b[0m\u001b[0;34m]\u001b[0m\u001b[0;34m)\u001b[0m\u001b[0;34m\u001b[0m\u001b[0;34m\u001b[0m\u001b[0m\n",
      "\u001b[0;31mValueError\u001b[0m: cannot reshape array of size 2 into shape (1,0)"
     ]
    }
   ],
   "source": [
    "_x_selection = []\n",
    "_y_selection = []\n",
    "for i in range(len(_list_figure[2])):\n",
    "    _x = []\n",
    "    _y = []\n",
    "    _selected_points = _list_figure[2][i]['selectedpoints']\n",
    "    for ii in range(len(_selected_points)):\n",
    "        _x.append(_list_figure[2][i]['x'][_selected_points[ii]])\n",
    "        _y.append(_list_figure[2][i]['y'][_selected_points[ii]])\n",
    "\n",
    "\n",
    "\n",
    "    _x_temp = _df['x'][\n",
    "        (_df['x3'].isin(_x)) &\n",
    "        (_df['y3'].isin(_y))\n",
    "      ]\n",
    "    _x_temp = round(_x_temp,7)\n",
    "    _x_selection.append(_x_temp.tolist())\n",
    "\n",
    "\n",
    "    _y_temp = _df['y'][\n",
    "        (_df['x3'].isin(_x)) &\n",
    "        (_df['y3'].isin(_y))\n",
    "      ]\n",
    "\n",
    "    _y_temp = round(_y_temp,7)\n",
    "    _y_selection.append(_y_temp.tolist())\n",
    "\n",
    "\n",
    "_x_selection = list(np.asarray(_x_selection).reshape(1,len(_x_selection[0]))[0])\n",
    "_y_selection = list(np.asarray(_y_selection).reshape(1,len(_y_selection[0]))[0])"
   ]
  },
  {
   "cell_type": "code",
   "execution_count": 207,
   "metadata": {},
   "outputs": [],
   "source": [
    "_t = []\n",
    "for i in range(len(_x_selection)):\n",
    "    for ii in range(len(_x_selection[i])):\n",
    "        _t.append(_x_selection[i][ii])"
   ]
  },
  {
   "cell_type": "code",
   "execution_count": 208,
   "metadata": {},
   "outputs": [
    {
     "data": {
      "text/plain": [
       "[25.328316, -17.481684]"
      ]
     },
     "execution_count": 208,
     "metadata": {},
     "output_type": "execute_result"
    }
   ],
   "source": [
    "_t"
   ]
  },
  {
   "cell_type": "code",
   "execution_count": null,
   "metadata": {},
   "outputs": [],
   "source": []
  },
  {
   "cell_type": "code",
   "execution_count": 198,
   "metadata": {},
   "outputs": [
    {
     "data": {
      "text/plain": [
       "[-17.343037, 20.676216]"
      ]
     },
     "execution_count": 198,
     "metadata": {},
     "output_type": "execute_result"
    }
   ],
   "source": [
    "_y_selection"
   ]
  },
  {
   "cell_type": "code",
   "execution_count": 175,
   "metadata": {},
   "outputs": [
    {
     "name": "stdout",
     "output_type": "stream",
     "text": [
      "_x [16.4618, 17.3014]\n",
      "_y [-4.9831, -9.3113]\n"
     ]
    }
   ],
   "source": [
    "_index = []\n",
    "_x_final = []\n",
    "_y_final = []  \n",
    "for i in range(len(figure)):\n",
    "    _x = []\n",
    "    _y = []              \n",
    "    _selected_points = figure[i]['selectedpoints']\n",
    "    for ii in range(len(_selected_points)):\n",
    "        _x.append(figure[i]['x'][_selected_points[ii]])\n",
    "        _y.append(figure[i]['y'][_selected_points[ii]])\n",
    "    print(\"_x\", _x)\n",
    "    print(\"_y\", _y)    \n",
    "        \n",
    "        \n",
    "\n",
    "    _x_temp = df['x'][  \n",
    "          (df['x3'].isin(_x)) &\n",
    "          (df['y3'].isin(_y))\n",
    "        ]\n",
    "\n",
    "    _x_temp = round(_x_temp,7)\n",
    "    _x_final.append(_x_temp.tolist())\n",
    "\n",
    "\n",
    "    _y_temp = df['y'][  \n",
    "          (df['x3'].isin(_x)) &\n",
    "          (df['y3'].isin(_y))\n",
    "        ]\n",
    "\n",
    "    _y_temp = round(_y_temp,7)\n",
    "    _y_final.append(_y_temp.tolist())\n",
    "    \n",
    "\n",
    "    \n",
    "    _x_final = list(np.asarray(_x_final).reshape(1,len(_x_final[0]))[0])    \n",
    "    _y_final = list(np.asarray(_y_final).reshape(1,len(_y_final[0]))[0])\n"
   ]
  },
  {
   "cell_type": "code",
   "execution_count": 171,
   "metadata": {},
   "outputs": [
    {
     "data": {
      "text/plain": [
       "array([[ 25.328316, -17.481684]])"
      ]
     },
     "execution_count": 171,
     "metadata": {},
     "output_type": "execute_result"
    }
   ],
   "source": [
    "np.asarray(_x_final).reshape(1,2)"
   ]
  },
  {
   "cell_type": "code",
   "execution_count": 174,
   "metadata": {},
   "outputs": [
    {
     "data": {
      "text/plain": [
       "[25.328316, -17.481684]"
      ]
     },
     "execution_count": 174,
     "metadata": {},
     "output_type": "execute_result"
    }
   ],
   "source": [
    "_x_final[0]"
   ]
  },
  {
   "cell_type": "code",
   "execution_count": null,
   "metadata": {},
   "outputs": [],
   "source": []
  },
  {
   "cell_type": "code",
   "execution_count": 154,
   "metadata": {},
   "outputs": [],
   "source": [
    "x = np.asarray(_y_final)"
   ]
  },
  {
   "cell_type": "code",
   "execution_count": 160,
   "metadata": {},
   "outputs": [
    {
     "data": {
      "text/plain": [
       "[34.67268, 20.676216]"
      ]
     },
     "execution_count": 160,
     "metadata": {},
     "output_type": "execute_result"
    }
   ],
   "source": [
    "list(np.asarray(_y_final).reshape(1,len(_y_final))[0])"
   ]
  },
  {
   "cell_type": "code",
   "execution_count": null,
   "metadata": {},
   "outputs": [],
   "source": []
  },
  {
   "cell_type": "code",
   "execution_count": 151,
   "metadata": {},
   "outputs": [
    {
     "data": {
      "text/plain": [
       "[[0.9335995], [-17.481684]]"
      ]
     },
     "execution_count": 151,
     "metadata": {},
     "output_type": "execute_result"
    }
   ],
   "source": [
    "np_x_final"
   ]
  },
  {
   "cell_type": "code",
   "execution_count": null,
   "metadata": {},
   "outputs": [],
   "source": []
  },
  {
   "cell_type": "code",
   "execution_count": null,
   "metadata": {},
   "outputs": [],
   "source": []
  },
  {
   "cell_type": "code",
   "execution_count": null,
   "metadata": {},
   "outputs": [],
   "source": []
  },
  {
   "cell_type": "code",
   "execution_count": 148,
   "metadata": {},
   "outputs": [
    {
     "data": {
      "text/plain": [
       "[17.3014]"
      ]
     },
     "execution_count": 148,
     "metadata": {},
     "output_type": "execute_result"
    }
   ],
   "source": [
    "_x"
   ]
  },
  {
   "cell_type": "code",
   "execution_count": 146,
   "metadata": {},
   "outputs": [
    {
     "name": "stdout",
     "output_type": "stream",
     "text": [
      "[0]\n",
      "[2]\n"
     ]
    }
   ],
   "source": [
    "print (figure[0]['selectedpoints'])\n",
    "print (figure[1]['selectedpoints'])"
   ]
  },
  {
   "cell_type": "code",
   "execution_count": 147,
   "metadata": {},
   "outputs": [
    {
     "data": {
      "text/plain": [
       "[-17.481684]"
      ]
     },
     "execution_count": 147,
     "metadata": {},
     "output_type": "execute_result"
    }
   ],
   "source": [
    "_x_final"
   ]
  },
  {
   "cell_type": "code",
   "execution_count": 111,
   "metadata": {},
   "outputs": [],
   "source": [
    "_x_final = df['x'][  \n",
    "              (df['x3'].isin([5.4364]))\n",
    "            ]\n"
   ]
  },
  {
   "cell_type": "code",
   "execution_count": 120,
   "metadata": {},
   "outputs": [],
   "source": [
    "l_1 = [1,2]\n",
    "l_2 = [5]\n"
   ]
  },
  {
   "cell_type": "code",
   "execution_count": 121,
   "metadata": {},
   "outputs": [],
   "source": [
    "x = []"
   ]
  },
  {
   "cell_type": "code",
   "execution_count": 135,
   "metadata": {},
   "outputs": [
    {
     "data": {
      "text/plain": [
       "array([1, 2])"
      ]
     },
     "execution_count": 135,
     "metadata": {},
     "output_type": "execute_result"
    }
   ],
   "source": [
    "np.asarray(l_1)"
   ]
  },
  {
   "cell_type": "code",
   "execution_count": 122,
   "metadata": {},
   "outputs": [],
   "source": [
    "x.append(l_1)"
   ]
  },
  {
   "cell_type": "code",
   "execution_count": 123,
   "metadata": {},
   "outputs": [
    {
     "data": {
      "text/plain": [
       "[[1, 2]]"
      ]
     },
     "execution_count": 123,
     "metadata": {},
     "output_type": "execute_result"
    }
   ],
   "source": [
    "x"
   ]
  },
  {
   "cell_type": "code",
   "execution_count": null,
   "metadata": {},
   "outputs": [],
   "source": []
  },
  {
   "cell_type": "code",
   "execution_count": null,
   "metadata": {},
   "outputs": [],
   "source": []
  },
  {
   "cell_type": "code",
   "execution_count": 112,
   "metadata": {},
   "outputs": [
    {
     "data": {
      "text/plain": [
       "4   -10.580127\n",
       "Name: x, dtype: float64"
      ]
     },
     "execution_count": 112,
     "metadata": {},
     "output_type": "execute_result"
    }
   ],
   "source": [
    " _x_final"
   ]
  },
  {
   "cell_type": "code",
   "execution_count": 114,
   "metadata": {},
   "outputs": [],
   "source": [
    "_x_final = round(_x_final,7)"
   ]
  },
  {
   "cell_type": "code",
   "execution_count": 115,
   "metadata": {},
   "outputs": [
    {
     "data": {
      "text/plain": [
       "4   -10.580127\n",
       "Name: x, dtype: float64"
      ]
     },
     "execution_count": 115,
     "metadata": {},
     "output_type": "execute_result"
    }
   ],
   "source": [
    "_x_final"
   ]
  },
  {
   "cell_type": "code",
   "execution_count": 116,
   "metadata": {},
   "outputs": [
    {
     "data": {
      "text/plain": [
       "[-10.580127]"
      ]
     },
     "execution_count": 116,
     "metadata": {},
     "output_type": "execute_result"
    }
   ],
   "source": [
    "_x_final.tolist()"
   ]
  },
  {
   "cell_type": "code",
   "execution_count": null,
   "metadata": {},
   "outputs": [],
   "source": []
  },
  {
   "cell_type": "code",
   "execution_count": 107,
   "metadata": {},
   "outputs": [
    {
     "data": {
      "text/plain": [
       "[-10.580127]"
      ]
     },
     "execution_count": 107,
     "metadata": {},
     "output_type": "execute_result"
    }
   ],
   "source": [
    "_x_final"
   ]
  },
  {
   "cell_type": "code",
   "execution_count": 108,
   "metadata": {},
   "outputs": [
    {
     "data": {
      "text/plain": [
       "[0.7325355]"
      ]
     },
     "execution_count": 108,
     "metadata": {},
     "output_type": "execute_result"
    }
   ],
   "source": [
    "_y_final"
   ]
  },
  {
   "cell_type": "code",
   "execution_count": null,
   "metadata": {},
   "outputs": [],
   "source": []
  }
 ],
 "metadata": {
  "kernelspec": {
   "display_name": "Python 3",
   "language": "python",
   "name": "python3"
  },
  "language_info": {
   "codemirror_mode": {
    "name": "ipython",
    "version": 3
   },
   "file_extension": ".py",
   "mimetype": "text/x-python",
   "name": "python",
   "nbconvert_exporter": "python",
   "pygments_lexer": "ipython3",
   "version": "3.7.3"
  }
 },
 "nbformat": 4,
 "nbformat_minor": 2
}
