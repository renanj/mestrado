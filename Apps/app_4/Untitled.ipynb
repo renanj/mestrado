{
 "cells": [
  {
   "cell_type": "code",
   "execution_count": 1,
   "metadata": {},
   "outputs": [],
   "source": [
    "import base64\n",
    "import io\n",
    "import pathlib\n",
    "import time\n",
    "\n",
    "import numpy as np\n",
    "import dash\n",
    "import dash_core_components as dcc\n",
    "import dash_html_components as html\n",
    "from dash.dependencies import Input, Output, State\n",
    "from dash.exceptions import PreventUpdate\n",
    "\n",
    "from PIL import Image\n",
    "from io import BytesIO\n",
    "import json\n",
    "import utils\n",
    "\n",
    "import pandas as pd\n",
    "import plotly.graph_objs as go\n",
    "import scipy.spatial.distance as spatial_distance\n",
    "\n",
    "import warnings\n",
    "\n",
    "import dash_bootstrap_components as dbc\n",
    "\n",
    "\n",
    "import datetime\n",
    "import math\n",
    "from PIL import Image\n",
    "import json"
   ]
  },
  {
   "cell_type": "code",
   "execution_count": 24,
   "metadata": {},
   "outputs": [],
   "source": [
    "df = pd.read_csv('data/data.csv', encoding='ISO-8859-1').iloc[:10,:]"
   ]
  },
  {
   "cell_type": "code",
   "execution_count": 25,
   "metadata": {},
   "outputs": [
    {
     "data": {
      "text/html": [
       "<div>\n",
       "<style scoped>\n",
       "    .dataframe tbody tr th:only-of-type {\n",
       "        vertical-align: middle;\n",
       "    }\n",
       "\n",
       "    .dataframe tbody tr th {\n",
       "        vertical-align: top;\n",
       "    }\n",
       "\n",
       "    .dataframe thead th {\n",
       "        text-align: right;\n",
       "    }\n",
       "</style>\n",
       "<table border=\"1\" class=\"dataframe\">\n",
       "  <thead>\n",
       "    <tr style=\"text-align: right;\">\n",
       "      <th></th>\n",
       "      <th></th>\n",
       "      <th>x</th>\n",
       "      <th>y</th>\n",
       "      <th>manual_label</th>\n",
       "      <th>correct_label</th>\n",
       "    </tr>\n",
       "  </thead>\n",
       "  <tbody>\n",
       "    <tr>\n",
       "      <th>0</th>\n",
       "      <td>Digit 2</td>\n",
       "      <td>0.933600</td>\n",
       "      <td>34.672680</td>\n",
       "      <td>-</td>\n",
       "      <td>Digit 2</td>\n",
       "    </tr>\n",
       "    <tr>\n",
       "      <th>1</th>\n",
       "      <td>Digit 7</td>\n",
       "      <td>25.328316</td>\n",
       "      <td>-17.343037</td>\n",
       "      <td>-</td>\n",
       "      <td>Digit 7</td>\n",
       "    </tr>\n",
       "    <tr>\n",
       "      <th>2</th>\n",
       "      <td>Digit 1</td>\n",
       "      <td>29.725433</td>\n",
       "      <td>16.650507</td>\n",
       "      <td>-</td>\n",
       "      <td>Digit 1</td>\n",
       "    </tr>\n",
       "    <tr>\n",
       "      <th>3</th>\n",
       "      <td>Digit 3</td>\n",
       "      <td>-17.481684</td>\n",
       "      <td>20.676216</td>\n",
       "      <td>-</td>\n",
       "      <td>Digit 3</td>\n",
       "    </tr>\n",
       "    <tr>\n",
       "      <th>4</th>\n",
       "      <td>Digit 5</td>\n",
       "      <td>-10.580127</td>\n",
       "      <td>0.732536</td>\n",
       "      <td>-</td>\n",
       "      <td>Digit 5</td>\n",
       "    </tr>\n",
       "    <tr>\n",
       "      <th>5</th>\n",
       "      <td>Digit 3</td>\n",
       "      <td>-16.901793</td>\n",
       "      <td>9.302485</td>\n",
       "      <td>-</td>\n",
       "      <td>Digit 3</td>\n",
       "    </tr>\n",
       "    <tr>\n",
       "      <th>6</th>\n",
       "      <td>Digit 8</td>\n",
       "      <td>-1.135775</td>\n",
       "      <td>8.993697</td>\n",
       "      <td>-</td>\n",
       "      <td>Digit 8</td>\n",
       "    </tr>\n",
       "    <tr>\n",
       "      <th>7</th>\n",
       "      <td>Digit 6</td>\n",
       "      <td>-21.810059</td>\n",
       "      <td>-12.258289</td>\n",
       "      <td>-</td>\n",
       "      <td>Digit 6</td>\n",
       "    </tr>\n",
       "    <tr>\n",
       "      <th>8</th>\n",
       "      <td>Digit 7</td>\n",
       "      <td>20.368908</td>\n",
       "      <td>-25.618021</td>\n",
       "      <td>-</td>\n",
       "      <td>Digit 7</td>\n",
       "    </tr>\n",
       "    <tr>\n",
       "      <th>9</th>\n",
       "      <td>Digit 0</td>\n",
       "      <td>-38.487957</td>\n",
       "      <td>-6.386107</td>\n",
       "      <td>-</td>\n",
       "      <td>Digit 0</td>\n",
       "    </tr>\n",
       "  </tbody>\n",
       "</table>\n",
       "</div>"
      ],
      "text/plain": [
       "                    x          y manual_label correct_label\n",
       "0  Digit 2   0.933600  34.672680            -       Digit 2\n",
       "1  Digit 7  25.328316 -17.343037            -       Digit 7\n",
       "2  Digit 1  29.725433  16.650507            -       Digit 1\n",
       "3  Digit 3 -17.481684  20.676216            -       Digit 3\n",
       "4  Digit 5 -10.580127   0.732536            -       Digit 5\n",
       "5  Digit 3 -16.901793   9.302485            -       Digit 3\n",
       "6  Digit 8  -1.135775   8.993697            -       Digit 8\n",
       "7  Digit 6 -21.810059 -12.258289            -       Digit 6\n",
       "8  Digit 7  20.368908 -25.618021            -       Digit 7\n",
       "9  Digit 0 -38.487957  -6.386107            -       Digit 0"
      ]
     },
     "execution_count": 25,
     "metadata": {},
     "output_type": "execute_result"
    }
   ],
   "source": [
    "df"
   ]
  },
  {
   "cell_type": "code",
   "execution_count": 26,
   "metadata": {},
   "outputs": [],
   "source": [
    "images_names = list(np.arange(df.shape[0]))\n",
    "l = []\n",
    "for i in range(len(images_names)):\n",
    "    img = Image.open(\"data/\" + str(images_names[i]) + \".png\")\n",
    "    l.append(img)\n",
    "    img.load()"
   ]
  },
  {
   "cell_type": "code",
   "execution_count": 46,
   "metadata": {},
   "outputs": [
    {
     "data": {
      "text/plain": [
       "list"
      ]
     },
     "execution_count": 46,
     "metadata": {},
     "output_type": "execute_result"
    }
   ],
   "source": [
    "type(l)"
   ]
  },
  {
   "cell_type": "code",
   "execution_count": 49,
   "metadata": {},
   "outputs": [
    {
     "data": {
      "text/plain": [
       "[<PIL.PngImagePlugin.PngImageFile image mode=L size=28x28 at 0x11F9010F0>,\n",
       " <PIL.PngImagePlugin.PngImageFile image mode=L size=28x28 at 0x11F901080>,\n",
       " <PIL.PngImagePlugin.PngImageFile image mode=L size=28x28 at 0x11F901048>,\n",
       " <PIL.PngImagePlugin.PngImageFile image mode=L size=28x28 at 0x11F901160>,\n",
       " <PIL.PngImagePlugin.PngImageFile image mode=L size=28x28 at 0x11F901198>,\n",
       " <PIL.PngImagePlugin.PngImageFile image mode=L size=28x28 at 0x11F9011D0>,\n",
       " <PIL.PngImagePlugin.PngImageFile image mode=L size=28x28 at 0x11F901208>,\n",
       " <PIL.PngImagePlugin.PngImageFile image mode=L size=28x28 at 0x11F901240>,\n",
       " <PIL.PngImagePlugin.PngImageFile image mode=L size=28x28 at 0x11F901278>,\n",
       " <PIL.PngImagePlugin.PngImageFile image mode=L size=28x28 at 0x11F9012B0>]"
      ]
     },
     "execution_count": 49,
     "metadata": {},
     "output_type": "execute_result"
    }
   ],
   "source": [
    "l"
   ]
  },
  {
   "cell_type": "code",
   "execution_count": 53,
   "metadata": {},
   "outputs": [
    {
     "data": {
      "image/png": "[encoded data removed]",
      "text/plain": [
       "<PIL.PngImagePlugin.PngImageFile image mode=L size=28x28 at 0x11F9010F0>"
      ]
     },
     "execution_count": 53,
     "metadata": {},
     "output_type": "execute_result"
    }
   ],
   "source": [
    "l[0]"
   ]
  },
  {
   "cell_type": "code",
   "execution_count": 77,
   "metadata": {},
   "outputs": [],
   "source": [
    "_images_names =  [6, 2]"
   ]
  },
  {
   "cell_type": "code",
   "execution_count": 78,
   "metadata": {},
   "outputs": [
    {
     "name": "stdout",
     "output_type": "stream",
     "text": [
      "6\n",
      "2\n"
     ]
    }
   ],
   "source": [
    "for i in _images_names:\n",
    "    print (i)"
   ]
  },
  {
   "cell_type": "code",
   "execution_count": 88,
   "metadata": {},
   "outputs": [],
   "source": [
    "templist = [l]"
   ]
  },
  {
   "cell_type": "code",
   "execution_count": 89,
   "metadata": {},
   "outputs": [
    {
     "data": {
      "text/plain": [
       "[[<PIL.PngImagePlugin.PngImageFile image mode=L size=28x28 at 0x11F9010F0>,\n",
       "  <PIL.PngImagePlugin.PngImageFile image mode=L size=28x28 at 0x11F901080>,\n",
       "  <PIL.PngImagePlugin.PngImageFile image mode=L size=28x28 at 0x11F901048>,\n",
       "  <PIL.PngImagePlugin.PngImageFile image mode=L size=28x28 at 0x11F901160>,\n",
       "  <PIL.PngImagePlugin.PngImageFile image mode=L size=28x28 at 0x11F901198>,\n",
       "  <PIL.PngImagePlugin.PngImageFile image mode=L size=28x28 at 0x11F9011D0>,\n",
       "  <PIL.PngImagePlugin.PngImageFile image mode=L size=28x28 at 0x11F901208>,\n",
       "  <PIL.PngImagePlugin.PngImageFile image mode=L size=28x28 at 0x11F901240>,\n",
       "  <PIL.PngImagePlugin.PngImageFile image mode=L size=28x28 at 0x11F901278>,\n",
       "  <PIL.PngImagePlugin.PngImageFile image mode=L size=28x28 at 0x11F9012B0>]]"
      ]
     },
     "execution_count": 89,
     "metadata": {},
     "output_type": "execute_result"
    }
   ],
   "source": [
    "templist"
   ]
  },
  {
   "cell_type": "code",
   "execution_count": 99,
   "metadata": {},
   "outputs": [
    {
     "data": {
      "text/plain": [
       "list"
      ]
     },
     "execution_count": 99,
     "metadata": {},
     "output_type": "execute_result"
    }
   ],
   "source": [
    "type(l)"
   ]
  },
  {
   "cell_type": "code",
   "execution_count": 106,
   "metadata": {},
   "outputs": [],
   "source": [
    "indices = _images_names\n",
    "sublist = []\n",
    "\n",
    "for i in indices:\n",
    "    sublist.append(l[i])"
   ]
  },
  {
   "cell_type": "code",
   "execution_count": 107,
   "metadata": {},
   "outputs": [
    {
     "data": {
      "text/plain": [
       "[<PIL.PngImagePlugin.PngImageFile image mode=L size=28x28 at 0x11F901208>,\n",
       " <PIL.PngImagePlugin.PngImageFile image mode=L size=28x28 at 0x11F901048>]"
      ]
     },
     "execution_count": 107,
     "metadata": {},
     "output_type": "execute_result"
    }
   ],
   "source": [
    "sublist"
   ]
  },
  {
   "cell_type": "code",
   "execution_count": 94,
   "metadata": {},
   "outputs": [
    {
     "data": {
      "text/plain": [
       "[<PIL.PngImagePlugin.PngImageFile image mode=L size=28x28 at 0x11F901048>]"
      ]
     },
     "execution_count": 94,
     "metadata": {},
     "output_type": "execute_result"
    }
   ],
   "source": [
    "sublist"
   ]
  },
  {
   "cell_type": "code",
   "execution_count": 95,
   "metadata": {},
   "outputs": [
    {
     "data": {
      "text/plain": [
       "[<PIL.PngImagePlugin.PngImageFile image mode=L size=28x28 at 0x11F901048>]"
      ]
     },
     "execution_count": 95,
     "metadata": {},
     "output_type": "execute_result"
    }
   ],
   "source": [
    "sublist"
   ]
  },
  {
   "cell_type": "code",
   "execution_count": 64,
   "metadata": {},
   "outputs": [
    {
     "data": {
      "text/plain": [
       "[<PIL.PngImagePlugin.PngImageFile image mode=L size=28x28 at 0x11F9010F0>,\n",
       " <PIL.PngImagePlugin.PngImageFile image mode=L size=28x28 at 0x11F901080>,\n",
       " <PIL.PngImagePlugin.PngImageFile image mode=L size=28x28 at 0x11F901048>,\n",
       " <PIL.PngImagePlugin.PngImageFile image mode=L size=28x28 at 0x11F901160>,\n",
       " <PIL.PngImagePlugin.PngImageFile image mode=L size=28x28 at 0x11F901198>,\n",
       " <PIL.PngImagePlugin.PngImageFile image mode=L size=28x28 at 0x11F9011D0>,\n",
       " <PIL.PngImagePlugin.PngImageFile image mode=L size=28x28 at 0x11F901208>,\n",
       " <PIL.PngImagePlugin.PngImageFile image mode=L size=28x28 at 0x11F901240>,\n",
       " <PIL.PngImagePlugin.PngImageFile image mode=L size=28x28 at 0x11F901278>,\n",
       " <PIL.PngImagePlugin.PngImageFile image mode=L size=28x28 at 0x11F9012B0>]"
      ]
     },
     "execution_count": 64,
     "metadata": {},
     "output_type": "execute_result"
    }
   ],
   "source": [
    "templist[0]"
   ]
  },
  {
   "cell_type": "code",
   "execution_count": null,
   "metadata": {},
   "outputs": [],
   "source": []
  },
  {
   "cell_type": "code",
   "execution_count": 33,
   "metadata": {},
   "outputs": [],
   "source": [
    "_list_x  = list(df['x'].values)\n",
    "_list_y  = list(df['y'].values)"
   ]
  },
  {
   "cell_type": "code",
   "execution_count": null,
   "metadata": {},
   "outputs": [],
   "source": []
  },
  {
   "cell_type": "code",
   "execution_count": 40,
   "metadata": {},
   "outputs": [],
   "source": [
    "\n",
    "\n",
    "_data = {\n",
    "  'x': _list_x,\n",
    "  'y': _list_y,\n",
    "  'sizex': 0.5,\n",
    "  'sizey': 0.5,\n",
    "  'images': l,\n",
    "  'source': l,\n",
    "  'folder': 'data/',\n",
    "  'png': '.png',\n",
    "  'opacity': 1,\n",
    "  'xanchor': 'center',\n",
    "  'yanchor': 'middle',\n",
    "  'xref': 'x',\n",
    "  'yref': 'y'\n",
    "}\n"
   ]
  },
  {
   "cell_type": "code",
   "execution_count": 41,
   "metadata": {},
   "outputs": [
    {
     "data": {
      "text/plain": [
       "{'x': [0.9335995,\n",
       "  25.328316,\n",
       "  29.725433000000002,\n",
       "  -17.481684,\n",
       "  -10.580127000000001,\n",
       "  -16.901792999999998,\n",
       "  -1.1357753000000002,\n",
       "  -21.810059,\n",
       "  20.368907999999998,\n",
       "  -38.487957],\n",
       " 'y': [34.67268,\n",
       "  -17.343037,\n",
       "  16.650507,\n",
       "  20.676216,\n",
       "  0.7325355,\n",
       "  9.302485,\n",
       "  8.993697000000001,\n",
       "  -12.258289,\n",
       "  -25.618021,\n",
       "  -6.3861065],\n",
       " 'sizex': 0.5,\n",
       " 'sizey': 0.5,\n",
       " 'images': [<PIL.PngImagePlugin.PngImageFile image mode=L size=28x28 at 0x11F9010F0>,\n",
       "  <PIL.PngImagePlugin.PngImageFile image mode=L size=28x28 at 0x11F901080>,\n",
       "  <PIL.PngImagePlugin.PngImageFile image mode=L size=28x28 at 0x11F901048>,\n",
       "  <PIL.PngImagePlugin.PngImageFile image mode=L size=28x28 at 0x11F901160>,\n",
       "  <PIL.PngImagePlugin.PngImageFile image mode=L size=28x28 at 0x11F901198>,\n",
       "  <PIL.PngImagePlugin.PngImageFile image mode=L size=28x28 at 0x11F9011D0>,\n",
       "  <PIL.PngImagePlugin.PngImageFile image mode=L size=28x28 at 0x11F901208>,\n",
       "  <PIL.PngImagePlugin.PngImageFile image mode=L size=28x28 at 0x11F901240>,\n",
       "  <PIL.PngImagePlugin.PngImageFile image mode=L size=28x28 at 0x11F901278>,\n",
       "  <PIL.PngImagePlugin.PngImageFile image mode=L size=28x28 at 0x11F9012B0>],\n",
       " 'source': [<PIL.PngImagePlugin.PngImageFile image mode=L size=28x28 at 0x11F9010F0>,\n",
       "  <PIL.PngImagePlugin.PngImageFile image mode=L size=28x28 at 0x11F901080>,\n",
       "  <PIL.PngImagePlugin.PngImageFile image mode=L size=28x28 at 0x11F901048>,\n",
       "  <PIL.PngImagePlugin.PngImageFile image mode=L size=28x28 at 0x11F901160>,\n",
       "  <PIL.PngImagePlugin.PngImageFile image mode=L size=28x28 at 0x11F901198>,\n",
       "  <PIL.PngImagePlugin.PngImageFile image mode=L size=28x28 at 0x11F9011D0>,\n",
       "  <PIL.PngImagePlugin.PngImageFile image mode=L size=28x28 at 0x11F901208>,\n",
       "  <PIL.PngImagePlugin.PngImageFile image mode=L size=28x28 at 0x11F901240>,\n",
       "  <PIL.PngImagePlugin.PngImageFile image mode=L size=28x28 at 0x11F901278>,\n",
       "  <PIL.PngImagePlugin.PngImageFile image mode=L size=28x28 at 0x11F9012B0>],\n",
       " 'folder': 'data/',\n",
       " 'png': '.png',\n",
       " 'opacity': 1,\n",
       " 'xanchor': 'center',\n",
       " 'yanchor': 'middle',\n",
       " 'xref': 'x',\n",
       " 'yref': 'y'}"
      ]
     },
     "execution_count": 41,
     "metadata": {},
     "output_type": "execute_result"
    }
   ],
   "source": [
    "_data"
   ]
  },
  {
   "cell_type": "code",
   "execution_count": 42,
   "metadata": {},
   "outputs": [],
   "source": [
    "_df_dict = pd.DataFrame(_data)"
   ]
  },
  {
   "cell_type": "code",
   "execution_count": 43,
   "metadata": {},
   "outputs": [
    {
     "data": {
      "text/html": [
       "<div>\n",
       "<style scoped>\n",
       "    .dataframe tbody tr th:only-of-type {\n",
       "        vertical-align: middle;\n",
       "    }\n",
       "\n",
       "    .dataframe tbody tr th {\n",
       "        vertical-align: top;\n",
       "    }\n",
       "\n",
       "    .dataframe thead th {\n",
       "        text-align: right;\n",
       "    }\n",
       "</style>\n",
       "<table border=\"1\" class=\"dataframe\">\n",
       "  <thead>\n",
       "    <tr style=\"text-align: right;\">\n",
       "      <th></th>\n",
       "      <th>x</th>\n",
       "      <th>y</th>\n",
       "      <th>sizex</th>\n",
       "      <th>sizey</th>\n",
       "      <th>images</th>\n",
       "      <th>source</th>\n",
       "      <th>folder</th>\n",
       "      <th>png</th>\n",
       "      <th>opacity</th>\n",
       "      <th>xanchor</th>\n",
       "      <th>yanchor</th>\n",
       "      <th>xref</th>\n",
       "      <th>yref</th>\n",
       "    </tr>\n",
       "  </thead>\n",
       "  <tbody>\n",
       "    <tr>\n",
       "      <th>0</th>\n",
       "      <td>0.933600</td>\n",
       "      <td>34.672680</td>\n",
       "      <td>0.5</td>\n",
       "      <td>0.5</td>\n",
       "      <td>&lt;PIL.PngImagePlugin.PngImageFile image mode=L ...</td>\n",
       "      <td>&lt;PIL.PngImagePlugin.PngImageFile image mode=L ...</td>\n",
       "      <td>data/</td>\n",
       "      <td>.png</td>\n",
       "      <td>1</td>\n",
       "      <td>center</td>\n",
       "      <td>middle</td>\n",
       "      <td>x</td>\n",
       "      <td>y</td>\n",
       "    </tr>\n",
       "    <tr>\n",
       "      <th>1</th>\n",
       "      <td>25.328316</td>\n",
       "      <td>-17.343037</td>\n",
       "      <td>0.5</td>\n",
       "      <td>0.5</td>\n",
       "      <td>&lt;PIL.PngImagePlugin.PngImageFile image mode=L ...</td>\n",
       "      <td>&lt;PIL.PngImagePlugin.PngImageFile image mode=L ...</td>\n",
       "      <td>data/</td>\n",
       "      <td>.png</td>\n",
       "      <td>1</td>\n",
       "      <td>center</td>\n",
       "      <td>middle</td>\n",
       "      <td>x</td>\n",
       "      <td>y</td>\n",
       "    </tr>\n",
       "    <tr>\n",
       "      <th>2</th>\n",
       "      <td>29.725433</td>\n",
       "      <td>16.650507</td>\n",
       "      <td>0.5</td>\n",
       "      <td>0.5</td>\n",
       "      <td>&lt;PIL.PngImagePlugin.PngImageFile image mode=L ...</td>\n",
       "      <td>&lt;PIL.PngImagePlugin.PngImageFile image mode=L ...</td>\n",
       "      <td>data/</td>\n",
       "      <td>.png</td>\n",
       "      <td>1</td>\n",
       "      <td>center</td>\n",
       "      <td>middle</td>\n",
       "      <td>x</td>\n",
       "      <td>y</td>\n",
       "    </tr>\n",
       "    <tr>\n",
       "      <th>3</th>\n",
       "      <td>-17.481684</td>\n",
       "      <td>20.676216</td>\n",
       "      <td>0.5</td>\n",
       "      <td>0.5</td>\n",
       "      <td>&lt;PIL.PngImagePlugin.PngImageFile image mode=L ...</td>\n",
       "      <td>&lt;PIL.PngImagePlugin.PngImageFile image mode=L ...</td>\n",
       "      <td>data/</td>\n",
       "      <td>.png</td>\n",
       "      <td>1</td>\n",
       "      <td>center</td>\n",
       "      <td>middle</td>\n",
       "      <td>x</td>\n",
       "      <td>y</td>\n",
       "    </tr>\n",
       "    <tr>\n",
       "      <th>4</th>\n",
       "      <td>-10.580127</td>\n",
       "      <td>0.732536</td>\n",
       "      <td>0.5</td>\n",
       "      <td>0.5</td>\n",
       "      <td>&lt;PIL.PngImagePlugin.PngImageFile image mode=L ...</td>\n",
       "      <td>&lt;PIL.PngImagePlugin.PngImageFile image mode=L ...</td>\n",
       "      <td>data/</td>\n",
       "      <td>.png</td>\n",
       "      <td>1</td>\n",
       "      <td>center</td>\n",
       "      <td>middle</td>\n",
       "      <td>x</td>\n",
       "      <td>y</td>\n",
       "    </tr>\n",
       "    <tr>\n",
       "      <th>5</th>\n",
       "      <td>-16.901793</td>\n",
       "      <td>9.302485</td>\n",
       "      <td>0.5</td>\n",
       "      <td>0.5</td>\n",
       "      <td>&lt;PIL.PngImagePlugin.PngImageFile image mode=L ...</td>\n",
       "      <td>&lt;PIL.PngImagePlugin.PngImageFile image mode=L ...</td>\n",
       "      <td>data/</td>\n",
       "      <td>.png</td>\n",
       "      <td>1</td>\n",
       "      <td>center</td>\n",
       "      <td>middle</td>\n",
       "      <td>x</td>\n",
       "      <td>y</td>\n",
       "    </tr>\n",
       "    <tr>\n",
       "      <th>6</th>\n",
       "      <td>-1.135775</td>\n",
       "      <td>8.993697</td>\n",
       "      <td>0.5</td>\n",
       "      <td>0.5</td>\n",
       "      <td>&lt;PIL.PngImagePlugin.PngImageFile image mode=L ...</td>\n",
       "      <td>&lt;PIL.PngImagePlugin.PngImageFile image mode=L ...</td>\n",
       "      <td>data/</td>\n",
       "      <td>.png</td>\n",
       "      <td>1</td>\n",
       "      <td>center</td>\n",
       "      <td>middle</td>\n",
       "      <td>x</td>\n",
       "      <td>y</td>\n",
       "    </tr>\n",
       "    <tr>\n",
       "      <th>7</th>\n",
       "      <td>-21.810059</td>\n",
       "      <td>-12.258289</td>\n",
       "      <td>0.5</td>\n",
       "      <td>0.5</td>\n",
       "      <td>&lt;PIL.PngImagePlugin.PngImageFile image mode=L ...</td>\n",
       "      <td>&lt;PIL.PngImagePlugin.PngImageFile image mode=L ...</td>\n",
       "      <td>data/</td>\n",
       "      <td>.png</td>\n",
       "      <td>1</td>\n",
       "      <td>center</td>\n",
       "      <td>middle</td>\n",
       "      <td>x</td>\n",
       "      <td>y</td>\n",
       "    </tr>\n",
       "    <tr>\n",
       "      <th>8</th>\n",
       "      <td>20.368908</td>\n",
       "      <td>-25.618021</td>\n",
       "      <td>0.5</td>\n",
       "      <td>0.5</td>\n",
       "      <td>&lt;PIL.PngImagePlugin.PngImageFile image mode=L ...</td>\n",
       "      <td>&lt;PIL.PngImagePlugin.PngImageFile image mode=L ...</td>\n",
       "      <td>data/</td>\n",
       "      <td>.png</td>\n",
       "      <td>1</td>\n",
       "      <td>center</td>\n",
       "      <td>middle</td>\n",
       "      <td>x</td>\n",
       "      <td>y</td>\n",
       "    </tr>\n",
       "    <tr>\n",
       "      <th>9</th>\n",
       "      <td>-38.487957</td>\n",
       "      <td>-6.386107</td>\n",
       "      <td>0.5</td>\n",
       "      <td>0.5</td>\n",
       "      <td>&lt;PIL.PngImagePlugin.PngImageFile image mode=L ...</td>\n",
       "      <td>&lt;PIL.PngImagePlugin.PngImageFile image mode=L ...</td>\n",
       "      <td>data/</td>\n",
       "      <td>.png</td>\n",
       "      <td>1</td>\n",
       "      <td>center</td>\n",
       "      <td>middle</td>\n",
       "      <td>x</td>\n",
       "      <td>y</td>\n",
       "    </tr>\n",
       "  </tbody>\n",
       "</table>\n",
       "</div>"
      ],
      "text/plain": [
       "           x          y  sizex  sizey  \\\n",
       "0   0.933600  34.672680    0.5    0.5   \n",
       "1  25.328316 -17.343037    0.5    0.5   \n",
       "2  29.725433  16.650507    0.5    0.5   \n",
       "3 -17.481684  20.676216    0.5    0.5   \n",
       "4 -10.580127   0.732536    0.5    0.5   \n",
       "5 -16.901793   9.302485    0.5    0.5   \n",
       "6  -1.135775   8.993697    0.5    0.5   \n",
       "7 -21.810059 -12.258289    0.5    0.5   \n",
       "8  20.368908 -25.618021    0.5    0.5   \n",
       "9 -38.487957  -6.386107    0.5    0.5   \n",
       "\n",
       "                                              images  \\\n",
       "0  <PIL.PngImagePlugin.PngImageFile image mode=L ...   \n",
       "1  <PIL.PngImagePlugin.PngImageFile image mode=L ...   \n",
       "2  <PIL.PngImagePlugin.PngImageFile image mode=L ...   \n",
       "3  <PIL.PngImagePlugin.PngImageFile image mode=L ...   \n",
       "4  <PIL.PngImagePlugin.PngImageFile image mode=L ...   \n",
       "5  <PIL.PngImagePlugin.PngImageFile image mode=L ...   \n",
       "6  <PIL.PngImagePlugin.PngImageFile image mode=L ...   \n",
       "7  <PIL.PngImagePlugin.PngImageFile image mode=L ...   \n",
       "8  <PIL.PngImagePlugin.PngImageFile image mode=L ...   \n",
       "9  <PIL.PngImagePlugin.PngImageFile image mode=L ...   \n",
       "\n",
       "                                              source folder   png  opacity  \\\n",
       "0  <PIL.PngImagePlugin.PngImageFile image mode=L ...  data/  .png        1   \n",
       "1  <PIL.PngImagePlugin.PngImageFile image mode=L ...  data/  .png        1   \n",
       "2  <PIL.PngImagePlugin.PngImageFile image mode=L ...  data/  .png        1   \n",
       "3  <PIL.PngImagePlugin.PngImageFile image mode=L ...  data/  .png        1   \n",
       "4  <PIL.PngImagePlugin.PngImageFile image mode=L ...  data/  .png        1   \n",
       "5  <PIL.PngImagePlugin.PngImageFile image mode=L ...  data/  .png        1   \n",
       "6  <PIL.PngImagePlugin.PngImageFile image mode=L ...  data/  .png        1   \n",
       "7  <PIL.PngImagePlugin.PngImageFile image mode=L ...  data/  .png        1   \n",
       "8  <PIL.PngImagePlugin.PngImageFile image mode=L ...  data/  .png        1   \n",
       "9  <PIL.PngImagePlugin.PngImageFile image mode=L ...  data/  .png        1   \n",
       "\n",
       "  xanchor yanchor xref yref  \n",
       "0  center  middle    x    y  \n",
       "1  center  middle    x    y  \n",
       "2  center  middle    x    y  \n",
       "3  center  middle    x    y  \n",
       "4  center  middle    x    y  \n",
       "5  center  middle    x    y  \n",
       "6  center  middle    x    y  \n",
       "7  center  middle    x    y  \n",
       "8  center  middle    x    y  \n",
       "9  center  middle    x    y  "
      ]
     },
     "execution_count": 43,
     "metadata": {},
     "output_type": "execute_result"
    }
   ],
   "source": [
    "_df_dict"
   ]
  },
  {
   "cell_type": "code",
   "execution_count": 44,
   "metadata": {},
   "outputs": [],
   "source": [
    "_df_dict = _df_dict[['x', 'y', 'sizex', 'sizey', 'source', 'opacity', 'xanchor', 'yanchor', 'xref', 'yref']]\n",
    "_df_dict = _df_dict.to_dict('records')"
   ]
  },
  {
   "cell_type": "code",
   "execution_count": 45,
   "metadata": {},
   "outputs": [
    {
     "data": {
      "text/plain": [
       "[{'x': 0.9335995,\n",
       "  'y': 34.67268,\n",
       "  'sizex': 0.5,\n",
       "  'sizey': 0.5,\n",
       "  'source': <PIL.PngImagePlugin.PngImageFile image mode=L size=28x28 at 0x11F9010F0>,\n",
       "  'opacity': 1,\n",
       "  'xanchor': 'center',\n",
       "  'yanchor': 'middle',\n",
       "  'xref': 'x',\n",
       "  'yref': 'y'},\n",
       " {'x': 25.328316,\n",
       "  'y': -17.343037,\n",
       "  'sizex': 0.5,\n",
       "  'sizey': 0.5,\n",
       "  'source': <PIL.PngImagePlugin.PngImageFile image mode=L size=28x28 at 0x11F901080>,\n",
       "  'opacity': 1,\n",
       "  'xanchor': 'center',\n",
       "  'yanchor': 'middle',\n",
       "  'xref': 'x',\n",
       "  'yref': 'y'},\n",
       " {'x': 29.725433000000002,\n",
       "  'y': 16.650507,\n",
       "  'sizex': 0.5,\n",
       "  'sizey': 0.5,\n",
       "  'source': <PIL.PngImagePlugin.PngImageFile image mode=L size=28x28 at 0x11F901048>,\n",
       "  'opacity': 1,\n",
       "  'xanchor': 'center',\n",
       "  'yanchor': 'middle',\n",
       "  'xref': 'x',\n",
       "  'yref': 'y'},\n",
       " {'x': -17.481684,\n",
       "  'y': 20.676216,\n",
       "  'sizex': 0.5,\n",
       "  'sizey': 0.5,\n",
       "  'source': <PIL.PngImagePlugin.PngImageFile image mode=L size=28x28 at 0x11F901160>,\n",
       "  'opacity': 1,\n",
       "  'xanchor': 'center',\n",
       "  'yanchor': 'middle',\n",
       "  'xref': 'x',\n",
       "  'yref': 'y'},\n",
       " {'x': -10.580127000000001,\n",
       "  'y': 0.7325355,\n",
       "  'sizex': 0.5,\n",
       "  'sizey': 0.5,\n",
       "  'source': <PIL.PngImagePlugin.PngImageFile image mode=L size=28x28 at 0x11F901198>,\n",
       "  'opacity': 1,\n",
       "  'xanchor': 'center',\n",
       "  'yanchor': 'middle',\n",
       "  'xref': 'x',\n",
       "  'yref': 'y'},\n",
       " {'x': -16.901792999999998,\n",
       "  'y': 9.302485,\n",
       "  'sizex': 0.5,\n",
       "  'sizey': 0.5,\n",
       "  'source': <PIL.PngImagePlugin.PngImageFile image mode=L size=28x28 at 0x11F9011D0>,\n",
       "  'opacity': 1,\n",
       "  'xanchor': 'center',\n",
       "  'yanchor': 'middle',\n",
       "  'xref': 'x',\n",
       "  'yref': 'y'},\n",
       " {'x': -1.1357753000000002,\n",
       "  'y': 8.993697000000001,\n",
       "  'sizex': 0.5,\n",
       "  'sizey': 0.5,\n",
       "  'source': <PIL.PngImagePlugin.PngImageFile image mode=L size=28x28 at 0x11F901208>,\n",
       "  'opacity': 1,\n",
       "  'xanchor': 'center',\n",
       "  'yanchor': 'middle',\n",
       "  'xref': 'x',\n",
       "  'yref': 'y'},\n",
       " {'x': -21.810059,\n",
       "  'y': -12.258289,\n",
       "  'sizex': 0.5,\n",
       "  'sizey': 0.5,\n",
       "  'source': <PIL.PngImagePlugin.PngImageFile image mode=L size=28x28 at 0x11F901240>,\n",
       "  'opacity': 1,\n",
       "  'xanchor': 'center',\n",
       "  'yanchor': 'middle',\n",
       "  'xref': 'x',\n",
       "  'yref': 'y'},\n",
       " {'x': 20.368907999999998,\n",
       "  'y': -25.618021,\n",
       "  'sizex': 0.5,\n",
       "  'sizey': 0.5,\n",
       "  'source': <PIL.PngImagePlugin.PngImageFile image mode=L size=28x28 at 0x11F901278>,\n",
       "  'opacity': 1,\n",
       "  'xanchor': 'center',\n",
       "  'yanchor': 'middle',\n",
       "  'xref': 'x',\n",
       "  'yref': 'y'},\n",
       " {'x': -38.487957,\n",
       "  'y': -6.3861065,\n",
       "  'sizex': 0.5,\n",
       "  'sizey': 0.5,\n",
       "  'source': <PIL.PngImagePlugin.PngImageFile image mode=L size=28x28 at 0x11F9012B0>,\n",
       "  'opacity': 1,\n",
       "  'xanchor': 'center',\n",
       "  'yanchor': 'middle',\n",
       "  'xref': 'x',\n",
       "  'yref': 'y'}]"
      ]
     },
     "execution_count": 45,
     "metadata": {},
     "output_type": "execute_result"
    }
   ],
   "source": [
    "_df_dict"
   ]
  },
  {
   "cell_type": "code",
   "execution_count": null,
   "metadata": {},
   "outputs": [],
   "source": []
  },
  {
   "cell_type": "code",
   "execution_count": 2,
   "metadata": {},
   "outputs": [],
   "source": [
    "x = Image.open(\"data/\" + str(1) + \".png\"),"
   ]
  },
  {
   "cell_type": "code",
   "execution_count": 3,
   "metadata": {},
   "outputs": [
    {
     "data": {
      "text/plain": [
       "tuple"
      ]
     },
     "execution_count": 3,
     "metadata": {},
     "output_type": "execute_result"
    }
   ],
   "source": [
    "type(x)"
   ]
  },
  {
   "cell_type": "code",
   "execution_count": 4,
   "metadata": {},
   "outputs": [
    {
     "data": {
      "text/plain": [
       "(<PIL.PngImagePlugin.PngImageFile image mode=L size=28x28 at 0x111DDF518>,)"
      ]
     },
     "execution_count": 4,
     "metadata": {},
     "output_type": "execute_result"
    }
   ],
   "source": [
    "x"
   ]
  },
  {
   "cell_type": "code",
   "execution_count": 5,
   "metadata": {},
   "outputs": [
    {
     "data": {
      "text/plain": [
       "(<PIL.PngImagePlugin.PngImageFile image mode=L size=28x28 at 0x111DDF518>,)"
      ]
     },
     "execution_count": 5,
     "metadata": {},
     "output_type": "execute_result"
    }
   ],
   "source": [
    "x"
   ]
  },
  {
   "cell_type": "code",
   "execution_count": 9,
   "metadata": {},
   "outputs": [
    {
     "data": {
      "text/plain": [
       "PIL.PngImagePlugin.PngImageFile"
      ]
     },
     "execution_count": 9,
     "metadata": {},
     "output_type": "execute_result"
    }
   ],
   "source": [
    "type(x[0])"
   ]
  },
  {
   "cell_type": "code",
   "execution_count": 10,
   "metadata": {},
   "outputs": [],
   "source": [
    "l = []\n",
    "l.append(x)"
   ]
  },
  {
   "cell_type": "code",
   "execution_count": 11,
   "metadata": {},
   "outputs": [
    {
     "data": {
      "text/plain": [
       "list"
      ]
     },
     "execution_count": 11,
     "metadata": {},
     "output_type": "execute_result"
    }
   ],
   "source": [
    "type(l)"
   ]
  },
  {
   "cell_type": "code",
   "execution_count": 15,
   "metadata": {},
   "outputs": [
    {
     "data": {
      "text/plain": [
       "(<PIL.PngImagePlugin.PngImageFile image mode=L size=28x28 at 0x111DDF518>,)"
      ]
     },
     "execution_count": 15,
     "metadata": {},
     "output_type": "execute_result"
    }
   ],
   "source": [
    "l[0]"
   ]
  },
  {
   "cell_type": "code",
   "execution_count": 22,
   "metadata": {},
   "outputs": [
    {
     "data": {
      "image/png": "[encoded data removed]",
      "text/plain": [
       "<PIL.PngImagePlugin.PngImageFile image mode=L size=28x28 at 0x111DDF518>"
      ]
     },
     "execution_count": 22,
     "metadata": {},
     "output_type": "execute_result"
    }
   ],
   "source": [
    "x[0]"
   ]
  },
  {
   "cell_type": "code",
   "execution_count": 16,
   "metadata": {},
   "outputs": [],
   "source": [
    "l =  {'points': [{'curveNumber': 0, 'pointNumber': 4, 'pointIndex': 4, 'x': -10.580127, 'y': 0.7325355, 'text': '-'}, {'curveNumber': 0, 'pointNumber': 5, 'pointIndex': 5, 'x': -16.901793, 'y': 9.302485, 'text': '-'}, {'curveNumber': 0, 'pointNumber': 6, 'pointIndex': 6, 'x': -1.1357753, 'y': 8.993697, 'text': '-'}, {'curveNumber': 0, 'pointNumber': 7, 'pointIndex': 7, 'x': -21.810059, 'y': -12.258289, 'text': '-'}], 'lassoPoints': {'x': [-20.64606011338948, -20.7077861019878, -17.436308706277003, -11.016805892052046, -1.6961816137061965, 2.871541542569253, 6.451648881271633, 7.747894641836288, 7.50099068744302, 0.5259539758332115, -5.338014941006893, -12.313051652616702, -23.238551634518792, -28.917342585563944, -32.929531844454544], 'y': [14.98091884147941, 14.874398168334533, 16.791770284942306, 19.774349132998843, 21.69172124960662, 21.69172124960662, 19.02870442098471, 11.785298647133121, 7.311430375048316, -7.814505211524121, -13.460100888202566, -17.507886467707866, -18.573093199156627, -15.910076370534721, -11.116646079015286]}}"
   ]
  },
  {
   "cell_type": "code",
   "execution_count": null,
   "metadata": {},
   "outputs": [],
   "source": []
  },
  {
   "cell_type": "code",
   "execution_count": 17,
   "metadata": {},
   "outputs": [
    {
     "data": {
      "text/plain": [
       "dict"
      ]
     },
     "execution_count": 17,
     "metadata": {},
     "output_type": "execute_result"
    }
   ],
   "source": [
    "type(l)"
   ]
  },
  {
   "cell_type": "code",
   "execution_count": null,
   "metadata": {},
   "outputs": [],
   "source": []
  },
  {
   "cell_type": "code",
   "execution_count": null,
   "metadata": {},
   "outputs": [],
   "source": []
  },
  {
   "cell_type": "code",
   "execution_count": null,
   "metadata": {},
   "outputs": [],
   "source": []
  },
  {
   "cell_type": "code",
   "execution_count": null,
   "metadata": {},
   "outputs": [],
   "source": [
    "x = np.array([np.array(Image.open(fname)) for fname in filelist])"
   ]
  },
  {
   "cell_type": "code",
   "execution_count": 16,
   "metadata": {},
   "outputs": [],
   "source": [
    "x = [1,2,3]"
   ]
  },
  {
   "cell_type": "code",
   "execution_count": 22,
   "metadata": {},
   "outputs": [],
   "source": [
    "x = np.arange(10)"
   ]
  },
  {
   "cell_type": "code",
   "execution_count": 23,
   "metadata": {},
   "outputs": [
    {
     "data": {
      "text/plain": [
       "numpy.ndarray"
      ]
     },
     "execution_count": 23,
     "metadata": {},
     "output_type": "execute_result"
    }
   ],
   "source": [
    "type(x)"
   ]
  },
  {
   "cell_type": "code",
   "execution_count": 24,
   "metadata": {},
   "outputs": [
    {
     "data": {
      "text/plain": [
       "[0, 1, 2, 3, 4, 5, 6, 7, 8, 9]"
      ]
     },
     "execution_count": 24,
     "metadata": {},
     "output_type": "execute_result"
    }
   ],
   "source": [
    "list(x)"
   ]
  },
  {
   "cell_type": "code",
   "execution_count": 70,
   "metadata": {},
   "outputs": [],
   "source": [
    "_images = [{'x': 0.5,\n",
    "  'y': 2.5,\n",
    "  'sizex': 0.5,\n",
    "  'sizey': 0.5,\n",
    "  'source': Image.open(\"data/\" + str(1) + \".png\"),\n",
    "  'opacity': 1,\n",
    "  'xanchor': 'center',\n",
    "  'yanchor': 'middle',\n",
    "  'xref': 'x',\n",
    "  'yref': 'y'},\n",
    " {'x': 2.0,\n",
    "  'y': 3.0,\n",
    "  'sizex': 0.5,\n",
    "  'sizey': 0.5,\n",
    "  'source': Image.open(\"data/\" + str(2) + \".png\"),\n",
    "  'opacity': 1,\n",
    "  'xanchor': 'center',\n",
    "  'yanchor': 'middle',\n",
    "  'xref': 'x',\n",
    "  'yref': 'y'}]"
   ]
  },
  {
   "cell_type": "code",
   "execution_count": 113,
   "metadata": {},
   "outputs": [],
   "source": [
    "x = list(np.arange(10))"
   ]
  },
  {
   "cell_type": "code",
   "execution_count": 114,
   "metadata": {},
   "outputs": [
    {
     "data": {
      "text/plain": [
       "[0, 1, 2, 3, 4, 5, 6, 7, 8, 9]"
      ]
     },
     "execution_count": 114,
     "metadata": {},
     "output_type": "execute_result"
    }
   ],
   "source": [
    "x"
   ]
  },
  {
   "cell_type": "code",
   "execution_count": 116,
   "metadata": {},
   "outputs": [
    {
     "ename": "AttributeError",
     "evalue": "'int' object has no attribute 'isin'",
     "output_type": "error",
     "traceback": [
      "\u001b[0;31m---------------------------------------------------------------------------\u001b[0m",
      "\u001b[0;31mAttributeError\u001b[0m                            Traceback (most recent call last)",
      "\u001b[0;32m<ipython-input-116-a542886c790d>\u001b[0m in \u001b[0;36m<module>\u001b[0;34m\u001b[0m\n\u001b[0;32m----> 1\u001b[0;31m \u001b[0;34m[\u001b[0m\u001b[0mi\u001b[0m \u001b[0;32mfor\u001b[0m \u001b[0mi\u001b[0m\u001b[0;34m,\u001b[0m \u001b[0mn\u001b[0m \u001b[0;32min\u001b[0m \u001b[0menumerate\u001b[0m\u001b[0;34m(\u001b[0m\u001b[0mx\u001b[0m\u001b[0;34m)\u001b[0m \u001b[0;32mif\u001b[0m \u001b[0mi\u001b[0m\u001b[0;34m.\u001b[0m\u001b[0misin\u001b[0m\u001b[0;34m(\u001b[0m\u001b[0;34m[\u001b[0m\u001b[0;36m1\u001b[0m\u001b[0;34m,\u001b[0m\u001b[0;36m4\u001b[0m\u001b[0;34m,\u001b[0m\u001b[0;36m6\u001b[0m\u001b[0;34m]\u001b[0m\u001b[0;34m)\u001b[0m\u001b[0;34m]\u001b[0m\u001b[0;34m\u001b[0m\u001b[0;34m\u001b[0m\u001b[0m\n\u001b[0m",
      "\u001b[0;32m<ipython-input-116-a542886c790d>\u001b[0m in \u001b[0;36m<listcomp>\u001b[0;34m(.0)\u001b[0m\n\u001b[0;32m----> 1\u001b[0;31m \u001b[0;34m[\u001b[0m\u001b[0mi\u001b[0m \u001b[0;32mfor\u001b[0m \u001b[0mi\u001b[0m\u001b[0;34m,\u001b[0m \u001b[0mn\u001b[0m \u001b[0;32min\u001b[0m \u001b[0menumerate\u001b[0m\u001b[0;34m(\u001b[0m\u001b[0mx\u001b[0m\u001b[0;34m)\u001b[0m \u001b[0;32mif\u001b[0m \u001b[0mi\u001b[0m\u001b[0;34m.\u001b[0m\u001b[0misin\u001b[0m\u001b[0;34m(\u001b[0m\u001b[0;34m[\u001b[0m\u001b[0;36m1\u001b[0m\u001b[0;34m,\u001b[0m\u001b[0;36m4\u001b[0m\u001b[0;34m,\u001b[0m\u001b[0;36m6\u001b[0m\u001b[0;34m]\u001b[0m\u001b[0;34m)\u001b[0m\u001b[0;34m]\u001b[0m\u001b[0;34m\u001b[0m\u001b[0;34m\u001b[0m\u001b[0m\n\u001b[0m",
      "\u001b[0;31mAttributeError\u001b[0m: 'int' object has no attribute 'isin'"
     ]
    }
   ],
   "source": [
    "[i for i, n in enumerate(x) if i]"
   ]
  },
  {
   "cell_type": "code",
   "execution_count": null,
   "metadata": {},
   "outputs": [],
   "source": []
  },
  {
   "cell_type": "code",
   "execution_count": 94,
   "metadata": {},
   "outputs": [
    {
     "data": {
      "text/plain": [
       "1"
      ]
     },
     "execution_count": 94,
     "metadata": {},
     "output_type": "execute_result"
    }
   ],
   "source": [
    "x[1]"
   ]
  },
  {
   "cell_type": "code",
   "execution_count": 110,
   "metadata": {},
   "outputs": [
    {
     "data": {
      "text/plain": [
       "<enumerate at 0x120510708>"
      ]
     },
     "execution_count": 110,
     "metadata": {},
     "output_type": "execute_result"
    }
   ],
   "source": [
    "enumerate(list_numbers)"
   ]
  },
  {
   "cell_type": "code",
   "execution_count": 112,
   "metadata": {},
   "outputs": [
    {
     "name": "stdout",
     "output_type": "stream",
     "text": [
      "3\n",
      "1\n",
      "2\n",
      "3\n",
      "3\n",
      "4\n",
      "5\n",
      "6\n",
      "3\n",
      "7\n",
      "8\n",
      "9\n",
      "10\n"
     ]
    }
   ],
   "source": [
    "for i, n in enumerate(list_numbers):\n",
    "    print (n)"
   ]
  },
  {
   "cell_type": "code",
   "execution_count": null,
   "metadata": {},
   "outputs": [],
   "source": []
  },
  {
   "cell_type": "code",
   "execution_count": null,
   "metadata": {},
   "outputs": [],
   "source": []
  },
  {
   "cell_type": "code",
   "execution_count": null,
   "metadata": {},
   "outputs": [],
   "source": []
  },
  {
   "cell_type": "code",
   "execution_count": 108,
   "metadata": {},
   "outputs": [
    {
     "data": {
      "text/plain": [
       "[0, 3, 4, 8]"
      ]
     },
     "execution_count": 108,
     "metadata": {},
     "output_type": "execute_result"
    }
   ],
   "source": [
    "list_numbers = [3, 1, 2, 3, 3, 4, 5, 6, 3, 7, 8, 9, 10]\n",
    "[i for i, n in enumerate(list_numbers) if n == 3]"
   ]
  },
  {
   "cell_type": "code",
   "execution_count": 106,
   "metadata": {},
   "outputs": [
    {
     "ename": "ValueError",
     "evalue": "1 is not in list",
     "output_type": "error",
     "traceback": [
      "\u001b[0;31m---------------------------------------------------------------------------\u001b[0m",
      "\u001b[0;31mValueError\u001b[0m                                Traceback (most recent call last)",
      "\u001b[0;32m<ipython-input-106-d4bcbf527bfd>\u001b[0m in \u001b[0;36m<module>\u001b[0;34m\u001b[0m\n\u001b[0;32m----> 1\u001b[0;31m \u001b[0mx\u001b[0m\u001b[0;34m.\u001b[0m\u001b[0mindex\u001b[0m\u001b[0;34m(\u001b[0m\u001b[0;36m1\u001b[0m\u001b[0;34m,\u001b[0m\u001b[0;36m2\u001b[0m\u001b[0;34m)\u001b[0m\u001b[0;34m\u001b[0m\u001b[0;34m\u001b[0m\u001b[0m\n\u001b[0m",
      "\u001b[0;31mValueError\u001b[0m: 1 is not in list"
     ]
    }
   ],
   "source": [
    "x.index(1,2)"
   ]
  },
  {
   "cell_type": "code",
   "execution_count": 75,
   "metadata": {},
   "outputs": [
    {
     "data": {
      "text/plain": [
       "PIL.PngImagePlugin.PngImageFile"
      ]
     },
     "execution_count": 75,
     "metadata": {},
     "output_type": "execute_result"
    }
   ],
   "source": [
    "type(Image.open(\"data/\" + str(2) + \".png\"))"
   ]
  },
  {
   "cell_type": "code",
   "execution_count": 78,
   "metadata": {},
   "outputs": [],
   "source": [
    "a = _images[0]['source']\n",
    "b = _images[1]['source']"
   ]
  },
  {
   "cell_type": "code",
   "execution_count": 80,
   "metadata": {},
   "outputs": [],
   "source": [
    "l = [a, b]"
   ]
  },
  {
   "cell_type": "code",
   "execution_count": 83,
   "metadata": {},
   "outputs": [],
   "source": [
    "_data = {\n",
    "    'l': l\n",
    "}\n",
    "_df_graph2 = pd.DataFrame(_data)"
   ]
  },
  {
   "cell_type": "code",
   "execution_count": null,
   "metadata": {},
   "outputs": [],
   "source": []
  },
  {
   "cell_type": "code",
   "execution_count": 88,
   "metadata": {},
   "outputs": [
    {
     "data": {
      "text/plain": [
       "[<PIL.PngImagePlugin.PngImageFile image mode=L size=28x28 at 0x12A2ACA90>,\n",
       " <PIL.PngImagePlugin.PngImageFile image mode=L size=28x28 at 0x12A2ACB00>]"
      ]
     },
     "execution_count": 88,
     "metadata": {},
     "output_type": "execute_result"
    }
   ],
   "source": [
    "l"
   ]
  },
  {
   "cell_type": "code",
   "execution_count": 71,
   "metadata": {},
   "outputs": [
    {
     "data": {
      "application/vnd.plotly.v1+json": {
       "config": {
        "plotlyServerURL": "https://plot.ly"
       },
       "data": [
        {
         "type": "scatter",
         "x": [
          0,
          0.5,
          1,
          2,
          2.2
         ],
         "y": [
          1.23,
          2.5,
          0.42,
          3,
          1
         ]
        }
       ],
       "layout": {
        "dragmode": "lasso",
        "images": [
         {
          "opacity": 1,
          "sizex": 0.5,
          "sizey": 0.5,
          "source": "data:image/png;base64,iVBORw0KGgoAAAANSUhEUgAAABwAAAAcCAAAAABXZoBIAAAAmklEQVR4nGNgGI5g+p8/f85MKFZixCa58g8ElMBFWBCS6c851zvzu3xuYejBZTh72p9uGJsJXVI1keEsTmc5/3ktjFMnA4PRW5ySwhue4TQ1+4osgoOuU+XZY5wa6/774pQz+7zbEqek3x+cUgxaXw+h8FEc5M2+FadG5j27RXFKlv1xwimn/PqrGU7JY3/q0URQHPQEp0YsAACtOS59MAe2mQAAAABJRU5ErkJggg==",
          "x": 0.5,
          "xanchor": "center",
          "xref": "x",
          "y": 2.5,
          "yanchor": "middle",
          "yref": "y"
         },
         {
          "opacity": 1,
          "sizex": 0.5,
          "sizey": 0.5,
          "source": "data:image/png;base64,iVBORw0KGgoAAAANSUhEUgAAABwAAAAcCAAAAABXZoBIAAAAiklEQVR4nGNgGHDAeuKyL05J63//ehE8JnzmoElG4pOUwyMpooJHkpGJgeE4Lhfk/Pv3TRSXThMGhmmvcWhk2/b/nyYuUyX+/UORRDFWl4HxyQdckp4M/88/x2Xln3//NiILMKFyGBlwSjIw/H+FR5LhKw4rGdj+/XvtgEfyMC45Bgb114a4JekEAO0GJEtBVVVIAAAAAElFTkSuQmCC",
          "x": 2,
          "xanchor": "center",
          "xref": "x",
          "y": 3,
          "yanchor": "middle",
          "yref": "y"
         }
        ],
        "paper_bgcolor": "rgba(0,0,0,0)",
        "plot_bgcolor": "rgba(0,0,0,0)",
        "template": {
         "data": {
          "bar": [
           {
            "error_x": {
             "color": "#2a3f5f"
            },
            "error_y": {
             "color": "#2a3f5f"
            },
            "marker": {
             "line": {
              "color": "#E5ECF6",
              "width": 0.5
             }
            },
            "type": "bar"
           }
          ],
          "barpolar": [
           {
            "marker": {
             "line": {
              "color": "#E5ECF6",
              "width": 0.5
             }
            },
            "type": "barpolar"
           }
          ],
          "carpet": [
           {
            "aaxis": {
             "endlinecolor": "#2a3f5f",
             "gridcolor": "white",
             "linecolor": "white",
             "minorgridcolor": "white",
             "startlinecolor": "#2a3f5f"
            },
            "baxis": {
             "endlinecolor": "#2a3f5f",
             "gridcolor": "white",
             "linecolor": "white",
             "minorgridcolor": "white",
             "startlinecolor": "#2a3f5f"
            },
            "type": "carpet"
           }
          ],
          "choropleth": [
           {
            "colorbar": {
             "outlinewidth": 0,
             "ticks": ""
            },
            "type": "choropleth"
           }
          ],
          "contour": [
           {
            "colorbar": {
             "outlinewidth": 0,
             "ticks": ""
            },
            "colorscale": [
             [
              0,
              "#0d0887"
             ],
             [
              0.1111111111111111,
              "#46039f"
             ],
             [
              0.2222222222222222,
              "#7201a8"
             ],
             [
              0.3333333333333333,
              "#9c179e"
             ],
             [
              0.4444444444444444,
              "#bd3786"
             ],
             [
              0.5555555555555556,
              "#d8576b"
             ],
             [
              0.6666666666666666,
              "#ed7953"
             ],
             [
              0.7777777777777778,
              "#fb9f3a"
             ],
             [
              0.8888888888888888,
              "#fdca26"
             ],
             [
              1,
              "#f0f921"
             ]
            ],
            "type": "contour"
           }
          ],
          "contourcarpet": [
           {
            "colorbar": {
             "outlinewidth": 0,
             "ticks": ""
            },
            "type": "contourcarpet"
           }
          ],
          "heatmap": [
           {
            "colorbar": {
             "outlinewidth": 0,
             "ticks": ""
            },
            "colorscale": [
             [
              0,
              "#0d0887"
             ],
             [
              0.1111111111111111,
              "#46039f"
             ],
             [
              0.2222222222222222,
              "#7201a8"
             ],
             [
              0.3333333333333333,
              "#9c179e"
             ],
             [
              0.4444444444444444,
              "#bd3786"
             ],
             [
              0.5555555555555556,
              "#d8576b"
             ],
             [
              0.6666666666666666,
              "#ed7953"
             ],
             [
              0.7777777777777778,
              "#fb9f3a"
             ],
             [
              0.8888888888888888,
              "#fdca26"
             ],
             [
              1,
              "#f0f921"
             ]
            ],
            "type": "heatmap"
           }
          ],
          "heatmapgl": [
           {
            "colorbar": {
             "outlinewidth": 0,
             "ticks": ""
            },
            "colorscale": [
             [
              0,
              "#0d0887"
             ],
             [
              0.1111111111111111,
              "#46039f"
             ],
             [
              0.2222222222222222,
              "#7201a8"
             ],
             [
              0.3333333333333333,
              "#9c179e"
             ],
             [
              0.4444444444444444,
              "#bd3786"
             ],
             [
              0.5555555555555556,
              "#d8576b"
             ],
             [
              0.6666666666666666,
              "#ed7953"
             ],
             [
              0.7777777777777778,
              "#fb9f3a"
             ],
             [
              0.8888888888888888,
              "#fdca26"
             ],
             [
              1,
              "#f0f921"
             ]
            ],
            "type": "heatmapgl"
           }
          ],
          "histogram": [
           {
            "marker": {
             "colorbar": {
              "outlinewidth": 0,
              "ticks": ""
             }
            },
            "type": "histogram"
           }
          ],
          "histogram2d": [
           {
            "colorbar": {
             "outlinewidth": 0,
             "ticks": ""
            },
            "colorscale": [
             [
              0,
              "#0d0887"
             ],
             [
              0.1111111111111111,
              "#46039f"
             ],
             [
              0.2222222222222222,
              "#7201a8"
             ],
             [
              0.3333333333333333,
              "#9c179e"
             ],
             [
              0.4444444444444444,
              "#bd3786"
             ],
             [
              0.5555555555555556,
              "#d8576b"
             ],
             [
              0.6666666666666666,
              "#ed7953"
             ],
             [
              0.7777777777777778,
              "#fb9f3a"
             ],
             [
              0.8888888888888888,
              "#fdca26"
             ],
             [
              1,
              "#f0f921"
             ]
            ],
            "type": "histogram2d"
           }
          ],
          "histogram2dcontour": [
           {
            "colorbar": {
             "outlinewidth": 0,
             "ticks": ""
            },
            "colorscale": [
             [
              0,
              "#0d0887"
             ],
             [
              0.1111111111111111,
              "#46039f"
             ],
             [
              0.2222222222222222,
              "#7201a8"
             ],
             [
              0.3333333333333333,
              "#9c179e"
             ],
             [
              0.4444444444444444,
              "#bd3786"
             ],
             [
              0.5555555555555556,
              "#d8576b"
             ],
             [
              0.6666666666666666,
              "#ed7953"
             ],
             [
              0.7777777777777778,
              "#fb9f3a"
             ],
             [
              0.8888888888888888,
              "#fdca26"
             ],
             [
              1,
              "#f0f921"
             ]
            ],
            "type": "histogram2dcontour"
           }
          ],
          "mesh3d": [
           {
            "colorbar": {
             "outlinewidth": 0,
             "ticks": ""
            },
            "type": "mesh3d"
           }
          ],
          "parcoords": [
           {
            "line": {
             "colorbar": {
              "outlinewidth": 0,
              "ticks": ""
             }
            },
            "type": "parcoords"
           }
          ],
          "pie": [
           {
            "automargin": true,
            "type": "pie"
           }
          ],
          "scatter": [
           {
            "marker": {
             "colorbar": {
              "outlinewidth": 0,
              "ticks": ""
             }
            },
            "type": "scatter"
           }
          ],
          "scatter3d": [
           {
            "line": {
             "colorbar": {
              "outlinewidth": 0,
              "ticks": ""
             }
            },
            "marker": {
             "colorbar": {
              "outlinewidth": 0,
              "ticks": ""
             }
            },
            "type": "scatter3d"
           }
          ],
          "scattercarpet": [
           {
            "marker": {
             "colorbar": {
              "outlinewidth": 0,
              "ticks": ""
             }
            },
            "type": "scattercarpet"
           }
          ],
          "scattergeo": [
           {
            "marker": {
             "colorbar": {
              "outlinewidth": 0,
              "ticks": ""
             }
            },
            "type": "scattergeo"
           }
          ],
          "scattergl": [
           {
            "marker": {
             "colorbar": {
              "outlinewidth": 0,
              "ticks": ""
             }
            },
            "type": "scattergl"
           }
          ],
          "scattermapbox": [
           {
            "marker": {
             "colorbar": {
              "outlinewidth": 0,
              "ticks": ""
             }
            },
            "type": "scattermapbox"
           }
          ],
          "scatterpolar": [
           {
            "marker": {
             "colorbar": {
              "outlinewidth": 0,
              "ticks": ""
             }
            },
            "type": "scatterpolar"
           }
          ],
          "scatterpolargl": [
           {
            "marker": {
             "colorbar": {
              "outlinewidth": 0,
              "ticks": ""
             }
            },
            "type": "scatterpolargl"
           }
          ],
          "scatterternary": [
           {
            "marker": {
             "colorbar": {
              "outlinewidth": 0,
              "ticks": ""
             }
            },
            "type": "scatterternary"
           }
          ],
          "surface": [
           {
            "colorbar": {
             "outlinewidth": 0,
             "ticks": ""
            },
            "colorscale": [
             [
              0,
              "#0d0887"
             ],
             [
              0.1111111111111111,
              "#46039f"
             ],
             [
              0.2222222222222222,
              "#7201a8"
             ],
             [
              0.3333333333333333,
              "#9c179e"
             ],
             [
              0.4444444444444444,
              "#bd3786"
             ],
             [
              0.5555555555555556,
              "#d8576b"
             ],
             [
              0.6666666666666666,
              "#ed7953"
             ],
             [
              0.7777777777777778,
              "#fb9f3a"
             ],
             [
              0.8888888888888888,
              "#fdca26"
             ],
             [
              1,
              "#f0f921"
             ]
            ],
            "type": "surface"
           }
          ],
          "table": [
           {
            "cells": {
             "fill": {
              "color": "#EBF0F8"
             },
             "line": {
              "color": "white"
             }
            },
            "header": {
             "fill": {
              "color": "#C8D4E3"
             },
             "line": {
              "color": "white"
             }
            },
            "type": "table"
           }
          ]
         },
         "layout": {
          "annotationdefaults": {
           "arrowcolor": "#2a3f5f",
           "arrowhead": 0,
           "arrowwidth": 1
          },
          "coloraxis": {
           "colorbar": {
            "outlinewidth": 0,
            "ticks": ""
           }
          },
          "colorscale": {
           "diverging": [
            [
             0,
             "#8e0152"
            ],
            [
             0.1,
             "#c51b7d"
            ],
            [
             0.2,
             "#de77ae"
            ],
            [
             0.3,
             "#f1b6da"
            ],
            [
             0.4,
             "#fde0ef"
            ],
            [
             0.5,
             "#f7f7f7"
            ],
            [
             0.6,
             "#e6f5d0"
            ],
            [
             0.7,
             "#b8e186"
            ],
            [
             0.8,
             "#7fbc41"
            ],
            [
             0.9,
             "#4d9221"
            ],
            [
             1,
             "#276419"
            ]
           ],
           "sequential": [
            [
             0,
             "#0d0887"
            ],
            [
             0.1111111111111111,
             "#46039f"
            ],
            [
             0.2222222222222222,
             "#7201a8"
            ],
            [
             0.3333333333333333,
             "#9c179e"
            ],
            [
             0.4444444444444444,
             "#bd3786"
            ],
            [
             0.5555555555555556,
             "#d8576b"
            ],
            [
             0.6666666666666666,
             "#ed7953"
            ],
            [
             0.7777777777777778,
             "#fb9f3a"
            ],
            [
             0.8888888888888888,
             "#fdca26"
            ],
            [
             1,
             "#f0f921"
            ]
           ],
           "sequentialminus": [
            [
             0,
             "#0d0887"
            ],
            [
             0.1111111111111111,
             "#46039f"
            ],
            [
             0.2222222222222222,
             "#7201a8"
            ],
            [
             0.3333333333333333,
             "#9c179e"
            ],
            [
             0.4444444444444444,
             "#bd3786"
            ],
            [
             0.5555555555555556,
             "#d8576b"
            ],
            [
             0.6666666666666666,
             "#ed7953"
            ],
            [
             0.7777777777777778,
             "#fb9f3a"
            ],
            [
             0.8888888888888888,
             "#fdca26"
            ],
            [
             1,
             "#f0f921"
            ]
           ]
          },
          "colorway": [
           "#636efa",
           "#EF553B",
           "#00cc96",
           "#ab63fa",
           "#FFA15A",
           "#19d3f3",
           "#FF6692",
           "#B6E880",
           "#FF97FF",
           "#FECB52"
          ],
          "font": {
           "color": "#2a3f5f"
          },
          "geo": {
           "bgcolor": "white",
           "lakecolor": "white",
           "landcolor": "#E5ECF6",
           "showlakes": true,
           "showland": true,
           "subunitcolor": "white"
          },
          "hoverlabel": {
           "align": "left"
          },
          "hovermode": "closest",
          "mapbox": {
           "style": "light"
          },
          "paper_bgcolor": "white",
          "plot_bgcolor": "#E5ECF6",
          "polar": {
           "angularaxis": {
            "gridcolor": "white",
            "linecolor": "white",
            "ticks": ""
           },
           "bgcolor": "#E5ECF6",
           "radialaxis": {
            "gridcolor": "white",
            "linecolor": "white",
            "ticks": ""
           }
          },
          "scene": {
           "xaxis": {
            "backgroundcolor": "#E5ECF6",
            "gridcolor": "white",
            "gridwidth": 2,
            "linecolor": "white",
            "showbackground": true,
            "ticks": "",
            "zerolinecolor": "white"
           },
           "yaxis": {
            "backgroundcolor": "#E5ECF6",
            "gridcolor": "white",
            "gridwidth": 2,
            "linecolor": "white",
            "showbackground": true,
            "ticks": "",
            "zerolinecolor": "white"
           },
           "zaxis": {
            "backgroundcolor": "#E5ECF6",
            "gridcolor": "white",
            "gridwidth": 2,
            "linecolor": "white",
            "showbackground": true,
            "ticks": "",
            "zerolinecolor": "white"
           }
          },
          "shapedefaults": {
           "line": {
            "color": "#2a3f5f"
           }
          },
          "ternary": {
           "aaxis": {
            "gridcolor": "white",
            "linecolor": "white",
            "ticks": ""
           },
           "baxis": {
            "gridcolor": "white",
            "linecolor": "white",
            "ticks": ""
           },
           "bgcolor": "#E5ECF6",
           "caxis": {
            "gridcolor": "white",
            "linecolor": "white",
            "ticks": ""
           }
          },
          "title": {
           "x": 0.05
          },
          "xaxis": {
           "automargin": true,
           "gridcolor": "white",
           "linecolor": "white",
           "ticks": "",
           "title": {
            "standoff": 15
           },
           "zerolinecolor": "white",
           "zerolinewidth": 2
          },
          "yaxis": {
           "automargin": true,
           "gridcolor": "white",
           "linecolor": "white",
           "ticks": "",
           "title": {
            "standoff": 15
           },
           "zerolinecolor": "white",
           "zerolinewidth": 2
          }
         }
        },
        "xaxis": {
         "gridcolor": "rgba(0,0,0,0)",
         "zerolinecolor": "rgba(0,0,0,0)"
        },
        "yaxis": {
         "gridcolor": "rgba(0,0,0,0)",
         "zerolinecolor": "rgba(0,0,0,0)"
        }
       }
      },
      "text/html": [
       "<div>\n",
       "        \n",
       "        \n",
       "            <div id=\"dad495a1-4962-4461-9ca1-71a1abcd9cee\" class=\"plotly-graph-div\" style=\"height:525px; width:100%;\"></div>\n",
       "            <script type=\"text/javascript\">\n",
       "                require([\"plotly\"], function(Plotly) {\n",
       "                    window.PLOTLYENV=window.PLOTLYENV || {};\n",
       "                    \n",
       "                if (document.getElementById(\"dad495a1-4962-4461-9ca1-71a1abcd9cee\")) {\n",
       "                    Plotly.newPlot(\n",
       "                        'dad495a1-4962-4461-9ca1-71a1abcd9cee',\n",
       "                        [{\"type\": \"scatter\", \"x\": [0, 0.5, 1, 2, 2.2], \"y\": [1.23, 2.5, 0.42, 3, 1]}],\n",
       "                        {\"dragmode\": \"lasso\", \"images\": [{\"opacity\": 1, \"sizex\": 0.5, \"sizey\": 0.5, \"source\": \"data:image/png;base64,iVBORw0KGgoAAAANSUhEUgAAABwAAAAcCAAAAABXZoBIAAAAmklEQVR4nGNgGI5g+p8/f85MKFZixCa58g8ElMBFWBCS6c851zvzu3xuYejBZTh72p9uGJsJXVI1keEsTmc5/3ktjFMnA4PRW5ySwhue4TQ1+4osgoOuU+XZY5wa6/774pQz+7zbEqek3x+cUgxaXw+h8FEc5M2+FadG5j27RXFKlv1xwimn/PqrGU7JY3/q0URQHPQEp0YsAACtOS59MAe2mQAAAABJRU5ErkJggg==\", \"x\": 0.5, \"xanchor\": \"center\", \"xref\": \"x\", \"y\": 2.5, \"yanchor\": \"middle\", \"yref\": \"y\"}, {\"opacity\": 1, \"sizex\": 0.5, \"sizey\": 0.5, \"source\": \"data:image/png;base64,iVBORw0KGgoAAAANSUhEUgAAABwAAAAcCAAAAABXZoBIAAAAiklEQVR4nGNgGHDAeuKyL05J63//ehE8JnzmoElG4pOUwyMpooJHkpGJgeE4Lhfk/Pv3TRSXThMGhmmvcWhk2/b/nyYuUyX+/UORRDFWl4HxyQdckp4M/88/x2Xln3//NiILMKFyGBlwSjIw/H+FR5LhKw4rGdj+/XvtgEfyMC45Bgb114a4JekEAO0GJEtBVVVIAAAAAElFTkSuQmCC\", \"x\": 2.0, \"xanchor\": \"center\", \"xref\": \"x\", \"y\": 3.0, \"yanchor\": \"middle\", \"yref\": \"y\"}], \"paper_bgcolor\": \"rgba(0,0,0,0)\", \"plot_bgcolor\": \"rgba(0,0,0,0)\", \"template\": {\"data\": {\"bar\": [{\"error_x\": {\"color\": \"#2a3f5f\"}, \"error_y\": {\"color\": \"#2a3f5f\"}, \"marker\": {\"line\": {\"color\": \"#E5ECF6\", \"width\": 0.5}}, \"type\": \"bar\"}], \"barpolar\": [{\"marker\": {\"line\": {\"color\": \"#E5ECF6\", \"width\": 0.5}}, \"type\": \"barpolar\"}], \"carpet\": [{\"aaxis\": {\"endlinecolor\": \"#2a3f5f\", \"gridcolor\": \"white\", \"linecolor\": \"white\", \"minorgridcolor\": \"white\", \"startlinecolor\": \"#2a3f5f\"}, \"baxis\": {\"endlinecolor\": \"#2a3f5f\", \"gridcolor\": \"white\", \"linecolor\": \"white\", \"minorgridcolor\": \"white\", \"startlinecolor\": \"#2a3f5f\"}, \"type\": \"carpet\"}], \"choropleth\": [{\"colorbar\": {\"outlinewidth\": 0, \"ticks\": \"\"}, \"type\": \"choropleth\"}], \"contour\": [{\"colorbar\": {\"outlinewidth\": 0, \"ticks\": \"\"}, \"colorscale\": [[0.0, \"#0d0887\"], [0.1111111111111111, \"#46039f\"], [0.2222222222222222, \"#7201a8\"], [0.3333333333333333, \"#9c179e\"], [0.4444444444444444, \"#bd3786\"], [0.5555555555555556, \"#d8576b\"], [0.6666666666666666, \"#ed7953\"], [0.7777777777777778, \"#fb9f3a\"], [0.8888888888888888, \"#fdca26\"], [1.0, \"#f0f921\"]], \"type\": \"contour\"}], \"contourcarpet\": [{\"colorbar\": {\"outlinewidth\": 0, \"ticks\": \"\"}, \"type\": \"contourcarpet\"}], \"heatmap\": [{\"colorbar\": {\"outlinewidth\": 0, \"ticks\": \"\"}, \"colorscale\": [[0.0, \"#0d0887\"], [0.1111111111111111, \"#46039f\"], [0.2222222222222222, \"#7201a8\"], [0.3333333333333333, \"#9c179e\"], [0.4444444444444444, \"#bd3786\"], [0.5555555555555556, \"#d8576b\"], [0.6666666666666666, \"#ed7953\"], [0.7777777777777778, \"#fb9f3a\"], [0.8888888888888888, \"#fdca26\"], [1.0, \"#f0f921\"]], \"type\": \"heatmap\"}], \"heatmapgl\": [{\"colorbar\": {\"outlinewidth\": 0, \"ticks\": \"\"}, \"colorscale\": [[0.0, \"#0d0887\"], [0.1111111111111111, \"#46039f\"], [0.2222222222222222, \"#7201a8\"], [0.3333333333333333, \"#9c179e\"], [0.4444444444444444, \"#bd3786\"], [0.5555555555555556, \"#d8576b\"], [0.6666666666666666, \"#ed7953\"], [0.7777777777777778, \"#fb9f3a\"], [0.8888888888888888, \"#fdca26\"], [1.0, \"#f0f921\"]], \"type\": \"heatmapgl\"}], \"histogram\": [{\"marker\": {\"colorbar\": {\"outlinewidth\": 0, \"ticks\": \"\"}}, \"type\": \"histogram\"}], \"histogram2d\": [{\"colorbar\": {\"outlinewidth\": 0, \"ticks\": \"\"}, \"colorscale\": [[0.0, \"#0d0887\"], [0.1111111111111111, \"#46039f\"], [0.2222222222222222, \"#7201a8\"], [0.3333333333333333, \"#9c179e\"], [0.4444444444444444, \"#bd3786\"], [0.5555555555555556, \"#d8576b\"], [0.6666666666666666, \"#ed7953\"], [0.7777777777777778, \"#fb9f3a\"], [0.8888888888888888, \"#fdca26\"], [1.0, \"#f0f921\"]], \"type\": \"histogram2d\"}], \"histogram2dcontour\": [{\"colorbar\": {\"outlinewidth\": 0, \"ticks\": \"\"}, \"colorscale\": [[0.0, \"#0d0887\"], [0.1111111111111111, \"#46039f\"], [0.2222222222222222, \"#7201a8\"], [0.3333333333333333, \"#9c179e\"], [0.4444444444444444, \"#bd3786\"], [0.5555555555555556, \"#d8576b\"], [0.6666666666666666, \"#ed7953\"], [0.7777777777777778, \"#fb9f3a\"], [0.8888888888888888, \"#fdca26\"], [1.0, \"#f0f921\"]], \"type\": \"histogram2dcontour\"}], \"mesh3d\": [{\"colorbar\": {\"outlinewidth\": 0, \"ticks\": \"\"}, \"type\": \"mesh3d\"}], \"parcoords\": [{\"line\": {\"colorbar\": {\"outlinewidth\": 0, \"ticks\": \"\"}}, \"type\": \"parcoords\"}], \"pie\": [{\"automargin\": true, \"type\": \"pie\"}], \"scatter\": [{\"marker\": {\"colorbar\": {\"outlinewidth\": 0, \"ticks\": \"\"}}, \"type\": \"scatter\"}], \"scatter3d\": [{\"line\": {\"colorbar\": {\"outlinewidth\": 0, \"ticks\": \"\"}}, \"marker\": {\"colorbar\": {\"outlinewidth\": 0, \"ticks\": \"\"}}, \"type\": \"scatter3d\"}], \"scattercarpet\": [{\"marker\": {\"colorbar\": {\"outlinewidth\": 0, \"ticks\": \"\"}}, \"type\": \"scattercarpet\"}], \"scattergeo\": [{\"marker\": {\"colorbar\": {\"outlinewidth\": 0, \"ticks\": \"\"}}, \"type\": \"scattergeo\"}], \"scattergl\": [{\"marker\": {\"colorbar\": {\"outlinewidth\": 0, \"ticks\": \"\"}}, \"type\": \"scattergl\"}], \"scattermapbox\": [{\"marker\": {\"colorbar\": {\"outlinewidth\": 0, \"ticks\": \"\"}}, \"type\": \"scattermapbox\"}], \"scatterpolar\": [{\"marker\": {\"colorbar\": {\"outlinewidth\": 0, \"ticks\": \"\"}}, \"type\": \"scatterpolar\"}], \"scatterpolargl\": [{\"marker\": {\"colorbar\": {\"outlinewidth\": 0, \"ticks\": \"\"}}, \"type\": \"scatterpolargl\"}], \"scatterternary\": [{\"marker\": {\"colorbar\": {\"outlinewidth\": 0, \"ticks\": \"\"}}, \"type\": \"scatterternary\"}], \"surface\": [{\"colorbar\": {\"outlinewidth\": 0, \"ticks\": \"\"}, \"colorscale\": [[0.0, \"#0d0887\"], [0.1111111111111111, \"#46039f\"], [0.2222222222222222, \"#7201a8\"], [0.3333333333333333, \"#9c179e\"], [0.4444444444444444, \"#bd3786\"], [0.5555555555555556, \"#d8576b\"], [0.6666666666666666, \"#ed7953\"], [0.7777777777777778, \"#fb9f3a\"], [0.8888888888888888, \"#fdca26\"], [1.0, \"#f0f921\"]], \"type\": \"surface\"}], \"table\": [{\"cells\": {\"fill\": {\"color\": \"#EBF0F8\"}, \"line\": {\"color\": \"white\"}}, \"header\": {\"fill\": {\"color\": \"#C8D4E3\"}, \"line\": {\"color\": \"white\"}}, \"type\": \"table\"}]}, \"layout\": {\"annotationdefaults\": {\"arrowcolor\": \"#2a3f5f\", \"arrowhead\": 0, \"arrowwidth\": 1}, \"coloraxis\": {\"colorbar\": {\"outlinewidth\": 0, \"ticks\": \"\"}}, \"colorscale\": {\"diverging\": [[0, \"#8e0152\"], [0.1, \"#c51b7d\"], [0.2, \"#de77ae\"], [0.3, \"#f1b6da\"], [0.4, \"#fde0ef\"], [0.5, \"#f7f7f7\"], [0.6, \"#e6f5d0\"], [0.7, \"#b8e186\"], [0.8, \"#7fbc41\"], [0.9, \"#4d9221\"], [1, \"#276419\"]], \"sequential\": [[0.0, \"#0d0887\"], [0.1111111111111111, \"#46039f\"], [0.2222222222222222, \"#7201a8\"], [0.3333333333333333, \"#9c179e\"], [0.4444444444444444, \"#bd3786\"], [0.5555555555555556, \"#d8576b\"], [0.6666666666666666, \"#ed7953\"], [0.7777777777777778, \"#fb9f3a\"], [0.8888888888888888, \"#fdca26\"], [1.0, \"#f0f921\"]], \"sequentialminus\": [[0.0, \"#0d0887\"], [0.1111111111111111, \"#46039f\"], [0.2222222222222222, \"#7201a8\"], [0.3333333333333333, \"#9c179e\"], [0.4444444444444444, \"#bd3786\"], [0.5555555555555556, \"#d8576b\"], [0.6666666666666666, \"#ed7953\"], [0.7777777777777778, \"#fb9f3a\"], [0.8888888888888888, \"#fdca26\"], [1.0, \"#f0f921\"]]}, \"colorway\": [\"#636efa\", \"#EF553B\", \"#00cc96\", \"#ab63fa\", \"#FFA15A\", \"#19d3f3\", \"#FF6692\", \"#B6E880\", \"#FF97FF\", \"#FECB52\"], \"font\": {\"color\": \"#2a3f5f\"}, \"geo\": {\"bgcolor\": \"white\", \"lakecolor\": \"white\", \"landcolor\": \"#E5ECF6\", \"showlakes\": true, \"showland\": true, \"subunitcolor\": \"white\"}, \"hoverlabel\": {\"align\": \"left\"}, \"hovermode\": \"closest\", \"mapbox\": {\"style\": \"light\"}, \"paper_bgcolor\": \"white\", \"plot_bgcolor\": \"#E5ECF6\", \"polar\": {\"angularaxis\": {\"gridcolor\": \"white\", \"linecolor\": \"white\", \"ticks\": \"\"}, \"bgcolor\": \"#E5ECF6\", \"radialaxis\": {\"gridcolor\": \"white\", \"linecolor\": \"white\", \"ticks\": \"\"}}, \"scene\": {\"xaxis\": {\"backgroundcolor\": \"#E5ECF6\", \"gridcolor\": \"white\", \"gridwidth\": 2, \"linecolor\": \"white\", \"showbackground\": true, \"ticks\": \"\", \"zerolinecolor\": \"white\"}, \"yaxis\": {\"backgroundcolor\": \"#E5ECF6\", \"gridcolor\": \"white\", \"gridwidth\": 2, \"linecolor\": \"white\", \"showbackground\": true, \"ticks\": \"\", \"zerolinecolor\": \"white\"}, \"zaxis\": {\"backgroundcolor\": \"#E5ECF6\", \"gridcolor\": \"white\", \"gridwidth\": 2, \"linecolor\": \"white\", \"showbackground\": true, \"ticks\": \"\", \"zerolinecolor\": \"white\"}}, \"shapedefaults\": {\"line\": {\"color\": \"#2a3f5f\"}}, \"ternary\": {\"aaxis\": {\"gridcolor\": \"white\", \"linecolor\": \"white\", \"ticks\": \"\"}, \"baxis\": {\"gridcolor\": \"white\", \"linecolor\": \"white\", \"ticks\": \"\"}, \"bgcolor\": \"#E5ECF6\", \"caxis\": {\"gridcolor\": \"white\", \"linecolor\": \"white\", \"ticks\": \"\"}}, \"title\": {\"x\": 0.05}, \"xaxis\": {\"automargin\": true, \"gridcolor\": \"white\", \"linecolor\": \"white\", \"ticks\": \"\", \"title\": {\"standoff\": 15}, \"zerolinecolor\": \"white\", \"zerolinewidth\": 2}, \"yaxis\": {\"automargin\": true, \"gridcolor\": \"white\", \"linecolor\": \"white\", \"ticks\": \"\", \"title\": {\"standoff\": 15}, \"zerolinecolor\": \"white\", \"zerolinewidth\": 2}}}, \"xaxis\": {\"gridcolor\": \"rgba(0,0,0,0)\", \"zerolinecolor\": \"rgba(0,0,0,0)\"}, \"yaxis\": {\"gridcolor\": \"rgba(0,0,0,0)\", \"zerolinecolor\": \"rgba(0,0,0,0)\"}},\n",
       "                        {\"responsive\": true}\n",
       "                    ).then(function(){\n",
       "                            \n",
       "var gd = document.getElementById('dad495a1-4962-4461-9ca1-71a1abcd9cee');\n",
       "var x = new MutationObserver(function (mutations, observer) {{\n",
       "        var display = window.getComputedStyle(gd).display;\n",
       "        if (!display || display === 'none') {{\n",
       "            console.log([gd, 'removed!']);\n",
       "            Plotly.purge(gd);\n",
       "            observer.disconnect();\n",
       "        }}\n",
       "}});\n",
       "\n",
       "// Listen for the removal of the full notebook cells\n",
       "var notebookContainer = gd.closest('#notebook-container');\n",
       "if (notebookContainer) {{\n",
       "    x.observe(notebookContainer, {childList: true});\n",
       "}}\n",
       "\n",
       "// Listen for the clearing of the current output cell\n",
       "var outputEl = gd.closest('.output');\n",
       "if (outputEl) {{\n",
       "    x.observe(outputEl, {childList: true});\n",
       "}}\n",
       "\n",
       "                        })\n",
       "                };\n",
       "                });\n",
       "            </script>\n",
       "        </div>"
      ]
     },
     "metadata": {},
     "output_type": "display_data"
    }
   ],
   "source": [
    "l_data =  go.Scatter(x=[0, 0.5, 1, 2, 2.2], y=[1.23, 2.5, 0.42, 3, 1])\n",
    "\n",
    "\n",
    "layout = go.Layout(\n",
    "#   autosize= _autosize,\n",
    "  # bargap=0.15,\n",
    "  # bargroupgap=0.1,\n",
    "  # barmode='stack',\n",
    "  # height=len(qtd_selected_points)*12,\n",
    "#   height=_height,\n",
    "  # width=1200,\n",
    "  # hovermode='x',\n",
    "  # margin={'l': 300, 'r': 20, 'b': 75, 't': 125},\n",
    "  xaxis={'gridcolor': 'rgba(0,0,0,0)', 'zerolinecolor': 'rgba(0,0,0,0)'},\n",
    "  yaxis={'gridcolor': 'rgba(0,0,0,0)', 'zerolinecolor': 'rgba(0,0,0,0)'},\n",
    "  dragmode = 'lasso',\n",
    "  paper_bgcolor='rgba(0,0,0,0)',\n",
    "  plot_bgcolor='rgba(0,0,0,0)',\n",
    "  # rangeslider=dict(visible = True),\n",
    "  images=_images\n",
    "    \n",
    "    \n",
    "    \n",
    "    \n",
    ")\n",
    "\n",
    "    \n",
    "    \n",
    "go.Figure(data=l_data, layout=layout)    \n",
    "    \n"
   ]
  },
  {
   "cell_type": "code",
   "execution_count": 66,
   "metadata": {},
   "outputs": [],
   "source": [
    "images_names = [1,2,3,4,5,6]"
   ]
  },
  {
   "cell_type": "code",
   "execution_count": 31,
   "metadata": {},
   "outputs": [],
   "source": [
    "_list_x = [1,2,3,4,5,6]\n",
    "_list_y = [0,0,0,0,0,0]"
   ]
  },
  {
   "cell_type": "code",
   "execution_count": 32,
   "metadata": {},
   "outputs": [],
   "source": [
    "\n",
    "_data = {\n",
    "  'x': _list_x,\n",
    "  'y': _list_y,\n",
    "  'sizex': 0.5,\n",
    "  'sizey': 0.5,\n",
    "  'images': images_names,\n",
    "  'folder': 'data/',\n",
    "  'png': '.png',\n",
    "  'opacity': 1,\n",
    "  'xanchor': 'center',\n",
    "  'yanchor': 'middle',\n",
    "  'xref': 'x',\n",
    "  'yref': 'y'\n",
    "}\n",
    "\n",
    "\n",
    "_df_dict = pd.DataFrame(_data)\n",
    "_df_dict['source'] = _df_dict['folder'] + _df_dict['images'].astype(str) + _df_dict['png']\n",
    "\n",
    "\n",
    "\n",
    "\n",
    "_list_source = _df_dict['source'].tolist()\n"
   ]
  },
  {
   "cell_type": "code",
   "execution_count": 33,
   "metadata": {},
   "outputs": [
    {
     "data": {
      "text/plain": [
       "['data/1.png',\n",
       " 'data/2.png',\n",
       " 'data/3.png',\n",
       " 'data/4.png',\n",
       " 'data/5.png',\n",
       " 'data/6.png']"
      ]
     },
     "execution_count": 33,
     "metadata": {},
     "output_type": "execute_result"
    }
   ],
   "source": [
    "_list_source"
   ]
  },
  {
   "cell_type": "code",
   "execution_count": 49,
   "metadata": {},
   "outputs": [],
   "source": [
    "x = Image.open('data/1.png')"
   ]
  },
  {
   "cell_type": "code",
   "execution_count": 52,
   "metadata": {},
   "outputs": [],
   "source": [
    "x = x.load()"
   ]
  },
  {
   "cell_type": "code",
   "execution_count": 53,
   "metadata": {},
   "outputs": [
    {
     "data": {
      "text/plain": [
       "<PixelAccess at 0x12014db30>"
      ]
     },
     "execution_count": 53,
     "metadata": {},
     "output_type": "execute_result"
    }
   ],
   "source": [
    "x"
   ]
  },
  {
   "cell_type": "code",
   "execution_count": null,
   "metadata": {},
   "outputs": [],
   "source": []
  },
  {
   "cell_type": "code",
   "execution_count": null,
   "metadata": {},
   "outputs": [],
   "source": []
  },
  {
   "cell_type": "code",
   "execution_count": 35,
   "metadata": {},
   "outputs": [],
   "source": [
    "l_images = np.array([np.array(Image.open(fname)) for fname in _list_source])"
   ]
  },
  {
   "cell_type": "code",
   "execution_count": 47,
   "metadata": {},
   "outputs": [
    {
     "data": {
      "text/plain": [
       "28"
      ]
     },
     "execution_count": 47,
     "metadata": {},
     "output_type": "execute_result"
    }
   ],
   "source": [
    "len(l_images[0][10])"
   ]
  },
  {
   "cell_type": "code",
   "execution_count": null,
   "metadata": {},
   "outputs": [],
   "source": []
  },
  {
   "cell_type": "code",
   "execution_count": null,
   "metadata": {},
   "outputs": [],
   "source": [
    "print(\"l_images\", l_images)\n",
    "_df_dict['source'] = pd.Series(l_images)"
   ]
  }
 ],
 "metadata": {
  "kernelspec": {
   "display_name": "Python 3",
   "language": "python",
   "name": "python3"
  },
  "language_info": {
   "codemirror_mode": {
    "name": "ipython",
    "version": 3
   },
   "file_extension": ".py",
   "mimetype": "text/x-python",
   "name": "python",
   "nbconvert_exporter": "python",
   "pygments_lexer": "ipython3",
   "version": "3.7.3"
  }
 },
 "nbformat": 4,
 "nbformat_minor": 2
}
