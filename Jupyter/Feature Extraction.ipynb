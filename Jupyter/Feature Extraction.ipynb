{
 "cells": [
  {
   "cell_type": "code",
   "execution_count": 5,
   "metadata": {},
   "outputs": [],
   "source": [
    "import pandas as pd\n",
    "import numpy as np\n",
    "from skimage import data, util\n",
    "from skimage.measure import label\n",
    "\n",
    "from PIL import Image\n",
    "import matplotlib.pyplot as plt\n",
    "\n",
    "from skimage import measure\n",
    "import cv2\n",
    "from PIL import Image"
   ]
  },
  {
   "cell_type": "code",
   "execution_count": 18,
   "metadata": {},
   "outputs": [],
   "source": [
    "df = pd.read_csv('../Apps/app_4/data/data.csv', encoding='ISO-8859-1').iloc[10:20,:]"
   ]
  },
  {
   "cell_type": "code",
   "execution_count": 19,
   "metadata": {},
   "outputs": [
    {
     "data": {
      "text/html": [
       "<div>\n",
       "<style scoped>\n",
       "    .dataframe tbody tr th:only-of-type {\n",
       "        vertical-align: middle;\n",
       "    }\n",
       "\n",
       "    .dataframe tbody tr th {\n",
       "        vertical-align: top;\n",
       "    }\n",
       "\n",
       "    .dataframe thead th {\n",
       "        text-align: right;\n",
       "    }\n",
       "</style>\n",
       "<table border=\"1\" class=\"dataframe\">\n",
       "  <thead>\n",
       "    <tr style=\"text-align: right;\">\n",
       "      <th></th>\n",
       "      <th>names</th>\n",
       "      <th>x1</th>\n",
       "      <th>y1</th>\n",
       "      <th>x3</th>\n",
       "      <th>y3</th>\n",
       "      <th>x4</th>\n",
       "      <th>y4</th>\n",
       "      <th>manual_label</th>\n",
       "      <th>correct_label</th>\n",
       "    </tr>\n",
       "  </thead>\n",
       "  <tbody>\n",
       "    <tr>\n",
       "      <th>10</th>\n",
       "      <td>Digit 3</td>\n",
       "      <td>-6.803560</td>\n",
       "      <td>8.594544</td>\n",
       "      <td>4.0721</td>\n",
       "      <td>-11.1185</td>\n",
       "      <td>12.9594</td>\n",
       "      <td>-12.1145</td>\n",
       "      <td>-</td>\n",
       "      <td>Digit 3</td>\n",
       "    </tr>\n",
       "    <tr>\n",
       "      <th>11</th>\n",
       "      <td>Digit 3</td>\n",
       "      <td>-14.682464</td>\n",
       "      <td>23.055588</td>\n",
       "      <td>-10.8465</td>\n",
       "      <td>-2.0719</td>\n",
       "      <td>-10.2703</td>\n",
       "      <td>-17.6168</td>\n",
       "      <td>-</td>\n",
       "      <td>Digit 3</td>\n",
       "    </tr>\n",
       "    <tr>\n",
       "      <th>12</th>\n",
       "      <td>Digit 1</td>\n",
       "      <td>23.317448</td>\n",
       "      <td>26.357510</td>\n",
       "      <td>19.4325</td>\n",
       "      <td>-13.8410</td>\n",
       "      <td>-5.6409</td>\n",
       "      <td>12.1511</td>\n",
       "      <td>-</td>\n",
       "      <td>Digit 1</td>\n",
       "    </tr>\n",
       "    <tr>\n",
       "      <th>13</th>\n",
       "      <td>Digit 2</td>\n",
       "      <td>-5.573134</td>\n",
       "      <td>29.876577</td>\n",
       "      <td>7.8571</td>\n",
       "      <td>-12.7735</td>\n",
       "      <td>14.2654</td>\n",
       "      <td>20.4805</td>\n",
       "      <td>-</td>\n",
       "      <td>Digit 2</td>\n",
       "    </tr>\n",
       "    <tr>\n",
       "      <th>14</th>\n",
       "      <td>Digit 1</td>\n",
       "      <td>22.127670</td>\n",
       "      <td>29.932766</td>\n",
       "      <td>-4.4659</td>\n",
       "      <td>3.4423</td>\n",
       "      <td>13.4993</td>\n",
       "      <td>17.0138</td>\n",
       "      <td>-</td>\n",
       "      <td>Digit 1</td>\n",
       "    </tr>\n",
       "    <tr>\n",
       "      <th>15</th>\n",
       "      <td>Digit 0</td>\n",
       "      <td>-35.160706</td>\n",
       "      <td>-0.594742</td>\n",
       "      <td>16.1185</td>\n",
       "      <td>6.1081</td>\n",
       "      <td>-4.8836</td>\n",
       "      <td>6.3170</td>\n",
       "      <td>-</td>\n",
       "      <td>Digit 0</td>\n",
       "    </tr>\n",
       "    <tr>\n",
       "      <th>16</th>\n",
       "      <td>Digit 0</td>\n",
       "      <td>-40.727547</td>\n",
       "      <td>3.940933</td>\n",
       "      <td>-3.1648</td>\n",
       "      <td>20.0472</td>\n",
       "      <td>-11.6266</td>\n",
       "      <td>-5.7942</td>\n",
       "      <td>-</td>\n",
       "      <td>Digit 0</td>\n",
       "    </tr>\n",
       "    <tr>\n",
       "      <th>17</th>\n",
       "      <td>Digit 3</td>\n",
       "      <td>-13.817628</td>\n",
       "      <td>21.844215</td>\n",
       "      <td>-7.6265</td>\n",
       "      <td>-18.2715</td>\n",
       "      <td>-17.8285</td>\n",
       "      <td>-17.3096</td>\n",
       "      <td>-</td>\n",
       "      <td>Digit 3</td>\n",
       "    </tr>\n",
       "    <tr>\n",
       "      <th>18</th>\n",
       "      <td>Digit 9</td>\n",
       "      <td>0.267404</td>\n",
       "      <td>-26.972754</td>\n",
       "      <td>8.7139</td>\n",
       "      <td>-2.1766</td>\n",
       "      <td>-10.4222</td>\n",
       "      <td>0.0004</td>\n",
       "      <td>-</td>\n",
       "      <td>Digit 9</td>\n",
       "    </tr>\n",
       "    <tr>\n",
       "      <th>19</th>\n",
       "      <td>Digit 0</td>\n",
       "      <td>-40.922752</td>\n",
       "      <td>-2.391694</td>\n",
       "      <td>19.9233</td>\n",
       "      <td>-11.9282</td>\n",
       "      <td>-6.3301</td>\n",
       "      <td>13.8279</td>\n",
       "      <td>-</td>\n",
       "      <td>Digit 0</td>\n",
       "    </tr>\n",
       "  </tbody>\n",
       "</table>\n",
       "</div>"
      ],
      "text/plain": [
       "      names         x1         y1       x3       y3       x4       y4  \\\n",
       "10  Digit 3  -6.803560   8.594544   4.0721 -11.1185  12.9594 -12.1145   \n",
       "11  Digit 3 -14.682464  23.055588 -10.8465  -2.0719 -10.2703 -17.6168   \n",
       "12  Digit 1  23.317448  26.357510  19.4325 -13.8410  -5.6409  12.1511   \n",
       "13  Digit 2  -5.573134  29.876577   7.8571 -12.7735  14.2654  20.4805   \n",
       "14  Digit 1  22.127670  29.932766  -4.4659   3.4423  13.4993  17.0138   \n",
       "15  Digit 0 -35.160706  -0.594742  16.1185   6.1081  -4.8836   6.3170   \n",
       "16  Digit 0 -40.727547   3.940933  -3.1648  20.0472 -11.6266  -5.7942   \n",
       "17  Digit 3 -13.817628  21.844215  -7.6265 -18.2715 -17.8285 -17.3096   \n",
       "18  Digit 9   0.267404 -26.972754   8.7139  -2.1766 -10.4222   0.0004   \n",
       "19  Digit 0 -40.922752  -2.391694  19.9233 -11.9282  -6.3301  13.8279   \n",
       "\n",
       "   manual_label correct_label  \n",
       "10            -       Digit 3  \n",
       "11            -       Digit 3  \n",
       "12            -       Digit 1  \n",
       "13            -       Digit 2  \n",
       "14            -       Digit 1  \n",
       "15            -       Digit 0  \n",
       "16            -       Digit 0  \n",
       "17            -       Digit 3  \n",
       "18            -       Digit 9  \n",
       "19            -       Digit 0  "
      ]
     },
     "execution_count": 19,
     "metadata": {},
     "output_type": "execute_result"
    }
   ],
   "source": [
    "df"
   ]
  },
  {
   "cell_type": "code",
   "execution_count": 49,
   "metadata": {},
   "outputs": [],
   "source": [
    "x = [10,11,12]"
   ]
  },
  {
   "cell_type": "code",
   "execution_count": 50,
   "metadata": {},
   "outputs": [
    {
     "name": "stdout",
     "output_type": "stream",
     "text": [
      "10\n",
      "11\n",
      "12\n"
     ]
    }
   ],
   "source": [
    "for i in x:\n",
    "    print(i)"
   ]
  },
  {
   "cell_type": "code",
   "execution_count": 30,
   "metadata": {},
   "outputs": [],
   "source": [
    "images_names = list(df.index)"
   ]
  },
  {
   "cell_type": "code",
   "execution_count": 31,
   "metadata": {},
   "outputs": [
    {
     "data": {
      "text/plain": [
       "[10, 11, 12, 13, 14, 15, 16, 17, 18, 19]"
      ]
     },
     "execution_count": 31,
     "metadata": {},
     "output_type": "execute_result"
    }
   ],
   "source": [
    "images_names"
   ]
  },
  {
   "cell_type": "code",
   "execution_count": 39,
   "metadata": {},
   "outputs": [
    {
     "name": "stdout",
     "output_type": "stream",
     "text": [
      "0\n",
      "1\n",
      "2\n",
      "3\n",
      "4\n",
      "5\n",
      "6\n",
      "7\n",
      "8\n",
      "9\n"
     ]
    }
   ],
   "source": [
    "for i in range(len(images_names)):\n",
    "    print(i)\n",
    "    img = Image.open(\"../Apps/app_3/data/\" + str(images_names[i]) + \".png\")\n",
    "    l_images_data.append(img)\n",
    "    img.load()\n"
   ]
  },
  {
   "cell_type": "code",
   "execution_count": 42,
   "metadata": {},
   "outputs": [
    {
     "ename": "TypeError",
     "evalue": "'PngImageFile' object is not subscriptable",
     "output_type": "error",
     "traceback": [
      "\u001b[0;31m---------------------------------------------------------------------------\u001b[0m",
      "\u001b[0;31mTypeError\u001b[0m                                 Traceback (most recent call last)",
      "\u001b[0;32m<ipython-input-42-669c7fa738ea>\u001b[0m in \u001b[0;36m<module>\u001b[0;34m\u001b[0m\n\u001b[0;32m----> 1\u001b[0;31m \u001b[0mimg\u001b[0m\u001b[0;34m[\u001b[0m\u001b[0;36m0\u001b[0m\u001b[0;34m]\u001b[0m\u001b[0;34m\u001b[0m\u001b[0;34m\u001b[0m\u001b[0m\n\u001b[0m",
      "\u001b[0;31mTypeError\u001b[0m: 'PngImageFile' object is not subscriptable"
     ]
    }
   ],
   "source": [
    "img"
   ]
  },
  {
   "cell_type": "code",
   "execution_count": 48,
   "metadata": {},
   "outputs": [
    {
     "data": {
      "image/png": "[encoded data removed]",
      "text/plain": [
       "<PIL.PngImagePlugin.PngImageFile image mode=L size=28x28 at 0x11DAC7C18>"
      ]
     },
     "execution_count": 48,
     "metadata": {},
     "output_type": "execute_result"
    }
   ],
   "source": [
    "l_images_data[4]"
   ]
  },
  {
   "cell_type": "code",
   "execution_count": null,
   "metadata": {},
   "outputs": [],
   "source": []
  },
  {
   "cell_type": "code",
   "execution_count": null,
   "metadata": {},
   "outputs": [],
   "source": []
  },
  {
   "cell_type": "code",
   "execution_count": 23,
   "metadata": {},
   "outputs": [
    {
     "name": "stdout",
     "output_type": "stream",
     "text": [
      "10\n",
      "11\n",
      "12\n",
      "13\n",
      "14\n",
      "15\n",
      "16\n",
      "17\n",
      "18\n",
      "19\n"
     ]
    }
   ],
   "source": [
    "for i in df.index.values:\n",
    "    print(i)"
   ]
  },
  {
   "cell_type": "code",
   "execution_count": 13,
   "metadata": {},
   "outputs": [],
   "source": [
    "images_names = list(np.arange(df.iloc[10:20,:].shape[0]))\n",
    "l_images_data = []\n",
    "for i in range(len(images_names)):\n",
    "    img = Image.open(\"data/\" + str(images_names[i]) + \".png\")\n",
    "    l_images_data.append(img)\n",
    "    img.load()\n"
   ]
  },
  {
   "cell_type": "code",
   "execution_count": 17,
   "metadata": {},
   "outputs": [
    {
     "data": {
      "text/html": [
       "<div>\n",
       "<style scoped>\n",
       "    .dataframe tbody tr th:only-of-type {\n",
       "        vertical-align: middle;\n",
       "    }\n",
       "\n",
       "    .dataframe tbody tr th {\n",
       "        vertical-align: top;\n",
       "    }\n",
       "\n",
       "    .dataframe thead th {\n",
       "        text-align: right;\n",
       "    }\n",
       "</style>\n",
       "<table border=\"1\" class=\"dataframe\">\n",
       "  <thead>\n",
       "    <tr style=\"text-align: right;\">\n",
       "      <th></th>\n",
       "      <th>names</th>\n",
       "      <th>x1</th>\n",
       "      <th>y1</th>\n",
       "      <th>x3</th>\n",
       "      <th>y3</th>\n",
       "      <th>x4</th>\n",
       "      <th>y4</th>\n",
       "      <th>manual_label</th>\n",
       "      <th>correct_label</th>\n",
       "    </tr>\n",
       "  </thead>\n",
       "  <tbody>\n",
       "  </tbody>\n",
       "</table>\n",
       "</div>"
      ],
      "text/plain": [
       "Empty DataFrame\n",
       "Columns: [names, x1, y1, x3, y3, x4, y4, manual_label, correct_label]\n",
       "Index: []"
      ]
     },
     "execution_count": 17,
     "metadata": {},
     "output_type": "execute_result"
    }
   ],
   "source": []
  },
  {
   "cell_type": "code",
   "execution_count": null,
   "metadata": {},
   "outputs": [],
   "source": []
  },
  {
   "cell_type": "code",
   "execution_count": 14,
   "metadata": {},
   "outputs": [
    {
     "data": {
      "text/plain": [
       "[]"
      ]
     },
     "execution_count": 14,
     "metadata": {},
     "output_type": "execute_result"
    }
   ],
   "source": [
    "l_images_data"
   ]
  },
  {
   "cell_type": "code",
   "execution_count": null,
   "metadata": {},
   "outputs": [],
   "source": []
  }
 ],
 "metadata": {
  "kernelspec": {
   "display_name": "Python 3",
   "language": "python",
   "name": "python3"
  },
  "language_info": {
   "codemirror_mode": {
    "name": "ipython",
    "version": 3
   },
   "file_extension": ".py",
   "mimetype": "text/x-python",
   "name": "python",
   "nbconvert_exporter": "python",
   "pygments_lexer": "ipython3",
   "version": "3.7.3"
  }
 },
 "nbformat": 4,
 "nbformat_minor": 2
}
